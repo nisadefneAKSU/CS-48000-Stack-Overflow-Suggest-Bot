{
  "nbformat": 4,
  "nbformat_minor": 0,
  "metadata": {
    "colab": {
      "name": "ErrorDataset.ipynb",
      "provenance": []
    },
    "kernelspec": {
      "name": "python3",
      "display_name": "Python 3"
    },
    "language_info": {
      "name": "python"
    }
  },
  "cells": [
    {
      "cell_type": "code",
      "execution_count": 1,
      "metadata": {
        "colab": {
          "base_uri": "https://localhost:8080/"
        },
        "id": "u1stw1kdoVk-",
        "outputId": "468785f5-2082-4a5e-f93f-bd2fb5f42b9d"
      },
      "outputs": [
        {
          "output_type": "stream",
          "name": "stdout",
          "text": [
            "Mounted at /content/drive\n"
          ]
        }
      ],
      "source": [
        "import pandas as pd\n",
        "from google.colab import drive\n",
        "import json\n",
        "drive.mount('/content/drive')\n",
        "\n",
        "DATA_PATH = '/content/drive/MyDrive/CS48000-DesignPatterns'"
      ]
    },
    {
      "cell_type": "code",
      "source": [
        "!pip3 install pickle5\n",
        "import pickle5 as pickle"
      ],
      "metadata": {
        "colab": {
          "base_uri": "https://localhost:8080/"
        },
        "id": "UOBdvbDspt0I",
        "outputId": "46670400-6cea-42a2-a31d-c8aec2c9f6ee"
      },
      "execution_count": 2,
      "outputs": [
        {
          "output_type": "stream",
          "name": "stdout",
          "text": [
            "Collecting pickle5\n",
            "  Downloading pickle5-0.0.12-cp37-cp37m-manylinux_2_5_x86_64.manylinux1_x86_64.whl (256 kB)\n",
            "\u001b[?25l\r\u001b[K     |█▎                              | 10 kB 22.5 MB/s eta 0:00:01\r\u001b[K     |██▋                             | 20 kB 15.5 MB/s eta 0:00:01\r\u001b[K     |███▉                            | 30 kB 10.8 MB/s eta 0:00:01\r\u001b[K     |█████▏                          | 40 kB 9.3 MB/s eta 0:00:01\r\u001b[K     |██████▍                         | 51 kB 4.7 MB/s eta 0:00:01\r\u001b[K     |███████▊                        | 61 kB 5.5 MB/s eta 0:00:01\r\u001b[K     |█████████                       | 71 kB 5.6 MB/s eta 0:00:01\r\u001b[K     |██████████▎                     | 81 kB 4.2 MB/s eta 0:00:01\r\u001b[K     |███████████▌                    | 92 kB 4.6 MB/s eta 0:00:01\r\u001b[K     |████████████▉                   | 102 kB 5.1 MB/s eta 0:00:01\r\u001b[K     |██████████████                  | 112 kB 5.1 MB/s eta 0:00:01\r\u001b[K     |███████████████▍                | 122 kB 5.1 MB/s eta 0:00:01\r\u001b[K     |████████████████▋               | 133 kB 5.1 MB/s eta 0:00:01\r\u001b[K     |██████████████████              | 143 kB 5.1 MB/s eta 0:00:01\r\u001b[K     |███████████████████▏            | 153 kB 5.1 MB/s eta 0:00:01\r\u001b[K     |████████████████████▌           | 163 kB 5.1 MB/s eta 0:00:01\r\u001b[K     |█████████████████████▊          | 174 kB 5.1 MB/s eta 0:00:01\r\u001b[K     |███████████████████████         | 184 kB 5.1 MB/s eta 0:00:01\r\u001b[K     |████████████████████████▎       | 194 kB 5.1 MB/s eta 0:00:01\r\u001b[K     |█████████████████████████▋      | 204 kB 5.1 MB/s eta 0:00:01\r\u001b[K     |██████████████████████████▉     | 215 kB 5.1 MB/s eta 0:00:01\r\u001b[K     |████████████████████████████▏   | 225 kB 5.1 MB/s eta 0:00:01\r\u001b[K     |█████████████████████████████▍  | 235 kB 5.1 MB/s eta 0:00:01\r\u001b[K     |██████████████████████████████▊ | 245 kB 5.1 MB/s eta 0:00:01\r\u001b[K     |████████████████████████████████| 256 kB 5.1 MB/s eta 0:00:01\r\u001b[K     |████████████████████████████████| 256 kB 5.1 MB/s \n",
            "\u001b[?25hInstalling collected packages: pickle5\n",
            "Successfully installed pickle5-0.0.12\n"
          ]
        }
      ]
    },
    {
      "cell_type": "code",
      "source": [
        "infile = open(DATA_PATH+'/bugfixes_valid.pickle','rb')\n",
        "df = pickle.load(infile)"
      ],
      "metadata": {
        "id": "kvOumcG5o3O5"
      },
      "execution_count": 22,
      "outputs": []
    },
    {
      "cell_type": "code",
      "source": [
        "df.info()"
      ],
      "metadata": {
        "colab": {
          "base_uri": "https://localhost:8080/"
        },
        "id": "KnbgyfcMsJL-",
        "outputId": "1c92af2c-231c-4525-aa43-8374910054d2"
      },
      "execution_count": 23,
      "outputs": [
        {
          "output_type": "stream",
          "name": "stdout",
          "text": [
            "<class 'pandas.core.frame.DataFrame'>\n",
            "Int64Index: 9457 entries, 94 to 624260\n",
            "Data columns (total 16 columns):\n",
            " #   Column                           Non-Null Count  Dtype \n",
            "---  ------                           --------------  ----- \n",
            " 0   after_merge                      9457 non-null   object\n",
            " 1   before_merge                     9457 non-null   object\n",
            " 2   filename                         9457 non-null   object\n",
            " 3   full_file_code_after_merge       9457 non-null   object\n",
            " 4   full_file_code_before_merge      9457 non-null   object\n",
            " 5   function_name                    9457 non-null   object\n",
            " 6   url                              9457 non-null   object\n",
            " 7   source code and errors           9457 non-null   object\n",
            " 8   full_traceback                   9457 non-null   object\n",
            " 9   traceback_type                   9457 non-null   object\n",
            " 10  before_merge_without_docstrings  9457 non-null   object\n",
            " 11  after_merge_without_docstrings   9457 non-null   object\n",
            " 12  before_merge_docstrings          9457 non-null   object\n",
            " 13  after_merge_docstrings           9457 non-null   object\n",
            " 14  path_to_snippet_before_merge     9457 non-null   object\n",
            " 15  path_to_snippet_after_merge      9457 non-null   object\n",
            "dtypes: object(16)\n",
            "memory usage: 1.2+ MB\n"
          ]
        }
      ]
    },
    {
      "cell_type": "code",
      "source": [
        " # Let's drop columns that are not necessary for our project.\n",
        "\n",
        "dropList = [\"after_merge\", \"before_merge\", \"full_file_code_after_merge\",\"full_file_code_before_merge\",\n",
        "            \"before_merge_without_docstrings\", \"after_merge_without_docstrings\",\"before_merge_docstrings\",\n",
        "            \"after_merge_docstrings\",\"path_to_snippet_before_merge\", \"path_to_snippet_after_merge\",\"filename\",\n",
        "            \"function_name\",\"url\",\"source code and errors\"]\n",
        "\n",
        "for col in dropList:\n",
        "  df.drop(col, axis = 1, inplace = True)"
      ],
      "metadata": {
        "id": "XbquAzjtsTGv"
      },
      "execution_count": 24,
      "outputs": []
    },
    {
      "cell_type": "code",
      "source": [
        "# Now, we are left with the following columns\n",
        "df.dtypes"
      ],
      "metadata": {
        "colab": {
          "base_uri": "https://localhost:8080/"
        },
        "id": "44beLHqup-bW",
        "outputId": "da2a23cf-1309-4f1b-dd8c-4468c57471c4"
      },
      "execution_count": 25,
      "outputs": [
        {
          "output_type": "execute_result",
          "data": {
            "text/plain": [
              "full_traceback    object\n",
              "traceback_type    object\n",
              "dtype: object"
            ]
          },
          "metadata": {},
          "execution_count": 25
        }
      ]
    },
    {
      "cell_type": "code",
      "source": [
        "df.head()"
      ],
      "metadata": {
        "colab": {
          "base_uri": "https://localhost:8080/",
          "height": 206
        },
        "id": "AqDN9rvUrE-D",
        "outputId": "3d66c22a-91c6-4b18-de9d-b2ef5bd41703"
      },
      "execution_count": 26,
      "outputs": [
        {
          "output_type": "execute_result",
          "data": {
            "text/plain": [
              "                                         full_traceback traceback_type\n",
              "94    Traceback (most recent call last):\\nFile \"<ipy...     IndexError\n",
              "178   ----------------------------------------------...       KeyError\n",
              "179   ----------------------------------------------...       KeyError\n",
              "1276  Traceback (most recent call last):\\nFile \"C:\\P...        OSError\n",
              "1322  im = imread('https://c1.staticflickr.com/9/837...        OSError"
            ],
            "text/html": [
              "\n",
              "  <div id=\"df-bcd9bd3e-91c2-44de-b1b3-8dbea40ff037\">\n",
              "    <div class=\"colab-df-container\">\n",
              "      <div>\n",
              "<style scoped>\n",
              "    .dataframe tbody tr th:only-of-type {\n",
              "        vertical-align: middle;\n",
              "    }\n",
              "\n",
              "    .dataframe tbody tr th {\n",
              "        vertical-align: top;\n",
              "    }\n",
              "\n",
              "    .dataframe thead th {\n",
              "        text-align: right;\n",
              "    }\n",
              "</style>\n",
              "<table border=\"1\" class=\"dataframe\">\n",
              "  <thead>\n",
              "    <tr style=\"text-align: right;\">\n",
              "      <th></th>\n",
              "      <th>full_traceback</th>\n",
              "      <th>traceback_type</th>\n",
              "    </tr>\n",
              "  </thead>\n",
              "  <tbody>\n",
              "    <tr>\n",
              "      <th>94</th>\n",
              "      <td>Traceback (most recent call last):\\nFile \"&lt;ipy...</td>\n",
              "      <td>IndexError</td>\n",
              "    </tr>\n",
              "    <tr>\n",
              "      <th>178</th>\n",
              "      <td>----------------------------------------------...</td>\n",
              "      <td>KeyError</td>\n",
              "    </tr>\n",
              "    <tr>\n",
              "      <th>179</th>\n",
              "      <td>----------------------------------------------...</td>\n",
              "      <td>KeyError</td>\n",
              "    </tr>\n",
              "    <tr>\n",
              "      <th>1276</th>\n",
              "      <td>Traceback (most recent call last):\\nFile \"C:\\P...</td>\n",
              "      <td>OSError</td>\n",
              "    </tr>\n",
              "    <tr>\n",
              "      <th>1322</th>\n",
              "      <td>im = imread('https://c1.staticflickr.com/9/837...</td>\n",
              "      <td>OSError</td>\n",
              "    </tr>\n",
              "  </tbody>\n",
              "</table>\n",
              "</div>\n",
              "      <button class=\"colab-df-convert\" onclick=\"convertToInteractive('df-bcd9bd3e-91c2-44de-b1b3-8dbea40ff037')\"\n",
              "              title=\"Convert this dataframe to an interactive table.\"\n",
              "              style=\"display:none;\">\n",
              "        \n",
              "  <svg xmlns=\"http://www.w3.org/2000/svg\" height=\"24px\"viewBox=\"0 0 24 24\"\n",
              "       width=\"24px\">\n",
              "    <path d=\"M0 0h24v24H0V0z\" fill=\"none\"/>\n",
              "    <path d=\"M18.56 5.44l.94 2.06.94-2.06 2.06-.94-2.06-.94-.94-2.06-.94 2.06-2.06.94zm-11 1L8.5 8.5l.94-2.06 2.06-.94-2.06-.94L8.5 2.5l-.94 2.06-2.06.94zm10 10l.94 2.06.94-2.06 2.06-.94-2.06-.94-.94-2.06-.94 2.06-2.06.94z\"/><path d=\"M17.41 7.96l-1.37-1.37c-.4-.4-.92-.59-1.43-.59-.52 0-1.04.2-1.43.59L10.3 9.45l-7.72 7.72c-.78.78-.78 2.05 0 2.83L4 21.41c.39.39.9.59 1.41.59.51 0 1.02-.2 1.41-.59l7.78-7.78 2.81-2.81c.8-.78.8-2.07 0-2.86zM5.41 20L4 18.59l7.72-7.72 1.47 1.35L5.41 20z\"/>\n",
              "  </svg>\n",
              "      </button>\n",
              "      \n",
              "  <style>\n",
              "    .colab-df-container {\n",
              "      display:flex;\n",
              "      flex-wrap:wrap;\n",
              "      gap: 12px;\n",
              "    }\n",
              "\n",
              "    .colab-df-convert {\n",
              "      background-color: #E8F0FE;\n",
              "      border: none;\n",
              "      border-radius: 50%;\n",
              "      cursor: pointer;\n",
              "      display: none;\n",
              "      fill: #1967D2;\n",
              "      height: 32px;\n",
              "      padding: 0 0 0 0;\n",
              "      width: 32px;\n",
              "    }\n",
              "\n",
              "    .colab-df-convert:hover {\n",
              "      background-color: #E2EBFA;\n",
              "      box-shadow: 0px 1px 2px rgba(60, 64, 67, 0.3), 0px 1px 3px 1px rgba(60, 64, 67, 0.15);\n",
              "      fill: #174EA6;\n",
              "    }\n",
              "\n",
              "    [theme=dark] .colab-df-convert {\n",
              "      background-color: #3B4455;\n",
              "      fill: #D2E3FC;\n",
              "    }\n",
              "\n",
              "    [theme=dark] .colab-df-convert:hover {\n",
              "      background-color: #434B5C;\n",
              "      box-shadow: 0px 1px 3px 1px rgba(0, 0, 0, 0.15);\n",
              "      filter: drop-shadow(0px 1px 2px rgba(0, 0, 0, 0.3));\n",
              "      fill: #FFFFFF;\n",
              "    }\n",
              "  </style>\n",
              "\n",
              "      <script>\n",
              "        const buttonEl =\n",
              "          document.querySelector('#df-bcd9bd3e-91c2-44de-b1b3-8dbea40ff037 button.colab-df-convert');\n",
              "        buttonEl.style.display =\n",
              "          google.colab.kernel.accessAllowed ? 'block' : 'none';\n",
              "\n",
              "        async function convertToInteractive(key) {\n",
              "          const element = document.querySelector('#df-bcd9bd3e-91c2-44de-b1b3-8dbea40ff037');\n",
              "          const dataTable =\n",
              "            await google.colab.kernel.invokeFunction('convertToInteractive',\n",
              "                                                     [key], {});\n",
              "          if (!dataTable) return;\n",
              "\n",
              "          const docLinkHtml = 'Like what you see? Visit the ' +\n",
              "            '<a target=\"_blank\" href=https://colab.research.google.com/notebooks/data_table.ipynb>data table notebook</a>'\n",
              "            + ' to learn more about interactive tables.';\n",
              "          element.innerHTML = '';\n",
              "          dataTable['output_type'] = 'display_data';\n",
              "          await google.colab.output.renderOutput(dataTable, element);\n",
              "          const docLink = document.createElement('div');\n",
              "          docLink.innerHTML = docLinkHtml;\n",
              "          element.appendChild(docLink);\n",
              "        }\n",
              "      </script>\n",
              "    </div>\n",
              "  </div>\n",
              "  "
            ]
          },
          "metadata": {},
          "execution_count": 26
        }
      ]
    },
    {
      "cell_type": "code",
      "source": [
        "len(df)"
      ],
      "metadata": {
        "colab": {
          "base_uri": "https://localhost:8080/"
        },
        "id": "RjwuX_5u6F3K",
        "outputId": "f441b514-42ef-45f6-c4c9-8af640619be9"
      },
      "execution_count": 27,
      "outputs": [
        {
          "output_type": "execute_result",
          "data": {
            "text/plain": [
              "9457"
            ]
          },
          "metadata": {},
          "execution_count": 27
        }
      ]
    },
    {
      "cell_type": "code",
      "source": [
        "df.drop_duplicates(inplace=True)"
      ],
      "metadata": {
        "id": "xkJxyjQ55IDR"
      },
      "execution_count": 28,
      "outputs": []
    },
    {
      "cell_type": "code",
      "source": [
        "len(df)"
      ],
      "metadata": {
        "colab": {
          "base_uri": "https://localhost:8080/"
        },
        "id": "r7b4gSBS6JNO",
        "outputId": "cb8a543e-e43e-40c3-d6b6-3ef6831bf23f"
      },
      "execution_count": 29,
      "outputs": [
        {
          "output_type": "execute_result",
          "data": {
            "text/plain": [
              "3454"
            ]
          },
          "metadata": {},
          "execution_count": 29
        }
      ]
    },
    {
      "cell_type": "code",
      "source": [
        "# There are 374 unique error types in our dataset.\n",
        "print(\"Number of unique error types: \", len(df.traceback_type.unique()))\n",
        "df.traceback_type.unique()"
      ],
      "metadata": {
        "colab": {
          "base_uri": "https://localhost:8080/"
        },
        "id": "1AoLQ-mMryOg",
        "outputId": "b3324b34-1f13-4006-8f2d-0ea06cfca161"
      },
      "execution_count": 30,
      "outputs": [
        {
          "output_type": "stream",
          "name": "stdout",
          "text": [
            "Number of unique error types:  374\n"
          ]
        },
        {
          "output_type": "execute_result",
          "data": {
            "text/plain": [
              "array(['IndexError', 'KeyError', 'OSError', 'ValueError',\n",
              "       'UnboundLocalError', 'AttributeError', 'socket.gaierror',\n",
              "       'discord.errors.InvalidArgument', 'discord.errors.HTTPException',\n",
              "       's3ql.backends.gs.RequestError', 'TypeError', 'ImportError',\n",
              "       'RuntimeError', 'FileNotFoundError', 'psycopg2.DataError',\n",
              "       'thread.error', 'iris.exceptions.CoordinateNotFoundError',\n",
              "       'tomlkit.exceptions.NonExistentKey',\n",
              "       'pipenv.patched.piptools.exceptions.NoCandidateFound',\n",
              "       'pipenv.patched.notpip._vendor.pyparsing.ParseException',\n",
              "       'json.decoder.JSONDecodeError',\n",
              "       'plette.models.base.ValidationError', 'prettytoml.tokens.error',\n",
              "       'PermissionError', 'UnicodeEncodeError', 'IOError', 'EOFError',\n",
              "       'pip9.exceptions.InstallationError',\n",
              "       'pip.exceptions.RequirementsFileParseError', 'ModuleNotFoundError',\n",
              "       'pexpect.exceptions.TIMEOUT', 'UnicodeDecodeError',\n",
              "       'EnvCommandError', 'pymysql.err.ProgrammingError',\n",
              "       'frappe.exceptions.DoesNotExistError', 'InternalError',\n",
              "       'ProgrammingError', 'frappe.exceptions.ValidationError',\n",
              "       'frappe.exceptions.LinkValidationError',\n",
              "       'intelmq.lib.exceptions.PipelineError',\n",
              "       'intelmq.lib.exceptions.InvalidValue', 'AssertionError',\n",
              "       'elasticsearch.exceptions.RequestError',\n",
              "       'nose.proxy.AssertionError', 'intelmq.lib.exceptions.KeyExists',\n",
              "       'UnicodeError', '_csv.Error', 'sqlite3.OperationalError',\n",
              "       'SyntaxError', 'NameError', 'NotADirectoryError',\n",
              "       'ChildProcessError', 'ProcessLookupError', 'Exception',\n",
              "       'zerver.lib.exceptions.JsonableError',\n",
              "       'subprocess.CalledProcessError', 'psycopg2.errors.SystemError',\n",
              "       'psycopg2.IntegrityError', 'psycopg2.NotSupportedError',\n",
              "       'django.core.exceptions.ValidationError',\n",
              "       'social_core.exceptions.AuthStateMissing', 'ConnectionError',\n",
              "       'ZeroDivisionError', 'sqlalchemy.exc.InvalidRequestError',\n",
              "       'NotImplementedError', 'requests.exceptions.HTTPError',\n",
              "       'jsonschema.exceptions.SchemaError',\n",
              "       'ccxt.base.errors.ExchangeError', 'freqtrade.OperationalException',\n",
              "       'urllib3.exceptions.NewConnectionError',\n",
              "       'telegram.vendor.ptb_urllib3.urllib3.exceptions.ReadTimeoutError',\n",
              "       'telegram.error.BadRequest',\n",
              "       'electrum.address_synchronizer.UnrelatedTransactionException',\n",
              "       'electrum.plugin.DeviceUnpairableError',\n",
              "       'electrum.util.UserFacingException',\n",
              "       'jsonrpclib.jsonrpc.ProtocolError',\n",
              "       'btchip.btchipException.BTChipException',\n",
              "       'pydicom.errors.InvalidDicomError', 'lxml.etree.ParserError',\n",
              "       'lightgbm.basic.LightGBMError',\n",
              "       'kombu.exceptions.ContentDisallowed',\n",
              "       'sqlalchemy.exc.ProgrammingError', 'AxisError',\n",
              "       'InvalidIndexError', 'WindowsError', 'urllib.error.HTTPError',\n",
              "       'TimeoutError', 'sklearn.exceptions.NotFittedError', 'HTTPError',\n",
              "       'tensorflow.python.framework.errors_impl.InvalidArgumentError',\n",
              "       'pykwalify.errors.SchemaError',\n",
              "       'aiohttp.client_exceptions.ContentTypeError', 'MemoryError',\n",
              "       'rasa.core.lock_store.TicketExistsError', 'telegram.error',\n",
              "       'rasa.utils.endpoints.ClientResponseError',\n",
              "       'google.api_core.exceptions.NotFound',\n",
              "       'jinja2.exceptions.UndefinedError',\n",
              "       'sphinx.util.cfamily.DefinitionError',\n",
              "       'jinja2.exceptions.TemplateNotFound', 'FileExistsError',\n",
              "       'locale.Error', 'PicklingError',\n",
              "       'sphinx.errors.SphinxParallelError', 'SphinxError',\n",
              "       'pygmt.exceptions.GMTCLibError', 'pyparsing.ParseException',\n",
              "       'DistutilsOptionError',\n",
              "       'pip._internal.exceptions.DistributionNotFound',\n",
              "       'botocore.errorfactory.NoSuchKey', 'tornado.util.TimeoutError',\n",
              "       'prefect.utilities.exceptions.SerializationError',\n",
              "       'builtins.AssertionError', 'sqlalchemy.exc.NoSuchTableError',\n",
              "       'buildbot.changes.gitpoller.GitError', 'twisted.internet.error',\n",
              "       'builtins.KeyError', 'builtins.TypeError',\n",
              "       'exceptions.UnicodeDecodeError',\n",
              "       'hydra.errors.ConfigCompositionException',\n",
              "       'omegaconf.errors.ConfigKeyError', 'hydra.errors.HydraException',\n",
              "       'submitit.core.utils.FailedJobError', 'RecursionError',\n",
              "       'hydra.errors.MissingConfigException',\n",
              "       'tribler_gui.event_request_manager.CoreConnectTimeoutError',\n",
              "       'pony.orm.core.TransactionIntegrityError',\n",
              "       'exceptions.TimeoutError', 'builtins.OSError',\n",
              "       'Tribler.Core.exceptions.SaveResumeDataError',\n",
              "       'exceptions.RuntimeError', 'exceptions.AttributeError',\n",
              "       'ConfigParser.ParsingError', 'PackError',\n",
              "       'InvalidSignatureException', 'SQLError', 'struct.error', 'isError',\n",
              "       'ArgumentError', 'nAttributeError', 'exceptions.AssertionError',\n",
              "       'BrokenPipeError', 'ssl.SSLZeroReturnError',\n",
              "       'ConnectionResetError', 'OverflowError', 'usb.core.USBError',\n",
              "       'numpy.core._exceptions.UFuncTypeError',\n",
              "       'holoviews.core.data.interface.DataError',\n",
              "       'discord.errors.Forbidden',\n",
              "       'discord.ext.commands.errors.CommandInvokeError',\n",
              "       'discord.errors.NotFound', 'pymongo.errors.InvalidURI',\n",
              "       'aiohttp.client_exceptions.ClientResponseError',\n",
              "       'downloader.errors.CloningError', 'configparser.NoOptionError',\n",
              "       '_pickle.PicklingError', 'AssertionErrorWARNING',\n",
              "       'configparser.InterpolationMissingOptionError', 'IbisTypeError',\n",
              "       'ibis.common.RelationError', 'HiveServer2Error', 'plaso.lib.error',\n",
              "       'CError', 'WinRegistryValueError',\n",
              "       'mitmproxy.exceptions.ControlException',\n",
              "       'pyperclip.PyperclipException',\n",
              "       'mitmproxy.exceptions.CommandError',\n",
              "       'mitmproxy.exceptions.OptionsError', 'OpenSSL.SSL.SysCallError',\n",
              "       'construct.core.FieldError', 'OpenSSL.SSL.Error',\n",
              "       'OpenSSL.crypto.Error', 'ProtocolError', 'nUnicodeDecodeError',\n",
              "       'ClientError', '__main__.UnarchiveError', 'nTypeError',\n",
              "       'PureHTTPError', 'ParamValidationError',\n",
              "       'botocore.exceptions.ClientError',\n",
              "       'nansible.module_utils.ec2.AnsibleAWSError',\n",
              "       'netrc.NetrcParseError', 'nUnicodeEncodeError', 'nValueError',\n",
              "       'requests.exceptions.ConnectionError',\n",
              "       'libcloud.common.google.ResourceNotFoundError',\n",
              "       'ansible.module_utils.connection.ConnectionError',\n",
              "       'ncom.vmware.vapi.std.error', 'nboto.exception.BotoServerError',\n",
              "       'github3.exceptions.NotFoundError', 'nIndexError', 'nRuntimeError',\n",
              "       'msrest.exceptions.ValidationError', 'nRecursionError',\n",
              "       'NotFoundError', 'tower_cli.exceptions.AuthError',\n",
              "       'nOpenSSL.crypto.Error', 'nKeyError', 'RepresenterError',\n",
              "       'NaApiError', 'fail_on_error', '_raise_error',\n",
              "       'netapp_lib.api.zapi.zapi.NaApiError', 'libvirtError',\n",
              "       'ndocker.errors.APIError', 'docker.errors.APIError',\n",
              "       'SSLValidationError', 'SSLError',\n",
              "       'botocore.exceptions.ParamValidationError', 'ConnectTimeoutError',\n",
              "       'nansible.module_utils.connection.ConnectionError', 'SSHError',\n",
              "       'CustomError', 'OptionValueError',\n",
              "       'tower_cli.exceptions.BadRequest',\n",
              "       'msrest.exceptions.AuthenticationError', 'nPermissionError',\n",
              "       'nOSError', 'dnf.exceptions.MarkingError',\n",
              "       'msrest.exceptions.SerializationError', 'nAssertionError',\n",
              "       'boto.exception.EC2ResponseError',\n",
              "       'jinja2.exceptions.TemplateSyntaxError', 'SSHException',\n",
              "       'WaiterError', 'TimeoutExpiredError',\n",
              "       'msrestazure.azure_exceptions.CloudError', 'WinRMTransportError',\n",
              "       'MetadataEndpointError', 'UnsupportedOperationException',\n",
              "       'org.freedesktop.DBus.Error',\n",
              "       'botocore.errorfactory.TargetGroupNotFoundException', 'nIOError',\n",
              "       'psycopg2.ProgrammingError', 'npsycopg2.ProgrammingError',\n",
              "       'nNameError', 'botocore.exceptions.NoRegionError', 'socket.error',\n",
              "       'ansible.module_utils.network.NetworkError',\n",
              "       'nboto.exception.EC2ResponseError', 'exceptions.ValueError',\n",
              "       'JMESPathTypeError', 'nUnboundLocalError', 'LookupError',\n",
              "       'ConfigParser.NoSectionError', 'nZeroDivisionError',\n",
              "       'paramiko.ssh_exception.SSHException', 'sre_constants.error',\n",
              "       '012IOError', 'ncclient.operations.errors.MissingCapabilityError',\n",
              "       'qiskit.circuit.exceptions.CircuitError',\n",
              "       'qiskit.pulse.exceptions.PulseError', 'QiskitError',\n",
              "       'qiskit.exceptions.QiskitError',\n",
              "       'qiskit.qasm.exceptions.QasmError', 'DAGCircuitError',\n",
              "       'qiskit.dagcircuit.exceptions.DAGCircuitError', 'PulseError',\n",
              "       'qiskit.transpiler.exceptions.TranspilerError',\n",
              "       'IBMQuantumExperience.IBMQuantumExperience.CredentialsError',\n",
              "       'qiskit.backends.joberror.JobError',\n",
              "       'qiskit._qiskiterror.QISKitError', 'QISKitError', 'MapperError',\n",
              "       'numpy.core._exceptions.MemoryError', 'urllib.error.URLError',\n",
              "       'JoblibException', 'LinAlgError', 'mxnet.base.MXNetError',\n",
              "       'gluonts.core.exception.GluonTSUserError', 'MXNetError',\n",
              "       'RRuntimeError', 'pytz.exceptions.UnknownTimeZoneError',\n",
              "       'ResourceNotFoundError', 'salt.exceptions.CommandExecutionError',\n",
              "       '_mysql_exceptions.ProgrammingError',\n",
              "       'salt.exceptions.VMwareApiError', 'CommandExecutionError',\n",
              "       'SaltInvocationError', 'pymysql.err.InternalError',\n",
              "       'salt.exceptions.MinionError',\n",
              "       'salt.exceptions.SaltInvocationError', '_pygit2.GitError',\n",
              "       'SaltRenderError', 'urllib3.exceptions.ProtocolError',\n",
              "       'ParseError', 'EauthAuthenticationError', 'gaierror',\n",
              "       'InvalidFileException', 'SaltCacheError', 'SaltClientError',\n",
              "       'YumBaseError', 'jinja2.exceptions.TemplateAssertionError',\n",
              "       'UnpackValueError', 'InvalidACLError', 'zmq.error.ZMQError',\n",
              "       'SaltMasterError', 'MaxRetryError', 'SaltException',\n",
              "       'RestException', 'MinionError', 'X509Error',\n",
              "       'salt.exceptions.SaltMasterError', 'TransportError', 'ParserError',\n",
              "       'CommandNotFoundError', 'optparse.OptionConflictError',\n",
              "       'salt.exceptions.SaltCloudSystemExit',\n",
              "       'ConfigParser.MissingSectionHeaderError', 'SaltReqTimeoutError',\n",
              "       'LinodeException', 'ApiError', 'APIError', 'CalledProcessError',\n",
              "       'msgpack.exceptions.UnpackValueError', '012ValueError', 'ZMQError',\n",
              "       'AuthenticationError', 'com_error', 'wx._core.wxAssertionError',\n",
              "       'wx._core.PyAssertionError', 'PyAssertionError', 'JavaException',\n",
              "       'alexapy.aiohttp.client_exceptions.InvalidURL',\n",
              "       'alexapy.errors.AlexapyLoginError',\n",
              "       'homeassistant.exceptions.HomeAssistantError',\n",
              "       'asyncio.TimeoutError', 'pyatv.exceptions.UnknownPlayState',\n",
              "       'pyatv.exceptions.AuthenticationError', 'numpy.linalg.LinAlgError',\n",
              "       'numpy.linalg.linalg.LinAlgError',\n",
              "       'scipy.stats.distributions.FitSolverError',\n",
              "       'tensorflow.python.framework.errors_impl.NotFoundError',\n",
              "       'sensors.common.SensorsError',\n",
              "       'pssh.exceptions.AuthenticationException',\n",
              "       'ssh2.exceptions.SocketRecvError', 'SessionError',\n",
              "       'certbot.errors.MisconfigurationError', 'PluginError',\n",
              "       'errors.NoInstallationError', 'errors.Error', 'InvalidQueryError',\n",
              "       'DBusErrorResponse', 'PluginParseError',\n",
              "       'azure.common.AzureMissingResourceHttpError',\n",
              "       'jmespath.exceptions.JMESPathTypeError',\n",
              "       'yaml.representer.RepresenterError', 'CloudNotRegisteredException',\n",
              "       'ssl.SSLError', 'BadYieldError', 'ChunkedEncodingError',\n",
              "       'GithubException', 'ApiException',\n",
              "       'ShowDirectoryNotFoundException', 'OperationalError',\n",
              "       'TwitterError', 'LanguageConvertError', 'MalformedMKVError',\n",
              "       'UnavailableException', 'BadCredentialsException',\n",
              "       'sqlite3.ProgrammingError', 'rpyc.lib.compat.TimeoutError',\n",
              "       'InterfaceError', 'StaleDataError', 'FlushError',\n",
              "       'builtins.AttributeError', 'builtins.ZeroDivisionError',\n",
              "       'exceptions.KeyError', 'LockException',\n",
              "       'twisted.names.error.DomainError',\n",
              "       'neptune.api_exceptions.ChannelsValuesSendBatchError',\n",
              "       'MisconfigurationException', 'mlflow.exceptions.MlflowException',\n",
              "       'pytorch_lightning.utilities.debugging.MisconfigurationException'],\n",
              "      dtype=object)"
            ]
          },
          "metadata": {},
          "execution_count": 30
        }
      ]
    },
    {
      "cell_type": "code",
      "source": [
        "#pd.set_option('display.max_colwidth', 1000)  # or 199\n",
        "dataset =dict()\n",
        "\n",
        "for i in range(len(df)):\n",
        "  dataset[i] = {}\n",
        "  dataset[i]['errorType'] = df.iloc[i][\"traceback_type\"]\n",
        "  dataset[i]['traceback'] = df.iloc[i][\"full_traceback\"]\n",
        "\n",
        "with open (\"test_data.json\",\"w\") as file:\n",
        "  json.dump(dataset, file,indent=4)"
      ],
      "metadata": {
        "id": "cPZPhHjHrklP"
      },
      "execution_count": 37,
      "outputs": []
    },
    {
      "cell_type": "code",
      "source": [
        "from google.colab import files\n",
        "files.download(\"test_data.json\")"
      ],
      "metadata": {
        "colab": {
          "base_uri": "https://localhost:8080/",
          "height": 17
        },
        "id": "I_F1kC5a7sza",
        "outputId": "fb9b1ce1-8611-4438-b1bc-03bfff10be93"
      },
      "execution_count": 38,
      "outputs": [
        {
          "output_type": "display_data",
          "data": {
            "text/plain": [
              "<IPython.core.display.Javascript object>"
            ],
            "application/javascript": [
              "\n",
              "    async function download(id, filename, size) {\n",
              "      if (!google.colab.kernel.accessAllowed) {\n",
              "        return;\n",
              "      }\n",
              "      const div = document.createElement('div');\n",
              "      const label = document.createElement('label');\n",
              "      label.textContent = `Downloading \"${filename}\": `;\n",
              "      div.appendChild(label);\n",
              "      const progress = document.createElement('progress');\n",
              "      progress.max = size;\n",
              "      div.appendChild(progress);\n",
              "      document.body.appendChild(div);\n",
              "\n",
              "      const buffers = [];\n",
              "      let downloaded = 0;\n",
              "\n",
              "      const channel = await google.colab.kernel.comms.open(id);\n",
              "      // Send a message to notify the kernel that we're ready.\n",
              "      channel.send({})\n",
              "\n",
              "      for await (const message of channel.messages) {\n",
              "        // Send a message to notify the kernel that we're ready.\n",
              "        channel.send({})\n",
              "        if (message.buffers) {\n",
              "          for (const buffer of message.buffers) {\n",
              "            buffers.push(buffer);\n",
              "            downloaded += buffer.byteLength;\n",
              "            progress.value = downloaded;\n",
              "          }\n",
              "        }\n",
              "      }\n",
              "      const blob = new Blob(buffers, {type: 'application/binary'});\n",
              "      const a = document.createElement('a');\n",
              "      a.href = window.URL.createObjectURL(blob);\n",
              "      a.download = filename;\n",
              "      div.appendChild(a);\n",
              "      a.click();\n",
              "      div.remove();\n",
              "    }\n",
              "  "
            ]
          },
          "metadata": {}
        },
        {
          "output_type": "display_data",
          "data": {
            "text/plain": [
              "<IPython.core.display.Javascript object>"
            ],
            "application/javascript": [
              "download(\"download_10a5b977-b603-432a-8d37-492bdd6f3996\", \"test_data.json\", 10449052)"
            ]
          },
          "metadata": {}
        }
      ]
    },
    {
      "cell_type": "code",
      "source": [
        "# Hangi hata tipleri için en çok hata mesajı var.\n",
        "# Az olan hata mesajlarını ele. Outlier'ları.\n"
      ],
      "metadata": {
        "id": "gGEHTJIRGhva"
      },
      "execution_count": null,
      "outputs": []
    }
  ]
}