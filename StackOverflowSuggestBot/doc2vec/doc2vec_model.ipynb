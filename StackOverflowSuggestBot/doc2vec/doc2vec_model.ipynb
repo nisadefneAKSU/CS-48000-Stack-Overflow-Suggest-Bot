{
  "cells": [
    {
      "cell_type": "code",
      "execution_count": 1,
      "metadata": {
        "colab": {
          "base_uri": "https://localhost:8080/"
        },
        "id": "J99e2PtUh4X-",
        "outputId": "2b13c31f-b2e5-4dab-a907-6bffc7384167"
      },
      "outputs": [
        {
          "output_type": "stream",
          "name": "stdout",
          "text": [
            "Found existing installation: gensim 3.6.0\n",
            "Uninstalling gensim-3.6.0:\n",
            "  Would remove:\n",
            "    /usr/local/lib/python3.7/dist-packages/gensim-3.6.0.dist-info/*\n",
            "    /usr/local/lib/python3.7/dist-packages/gensim/*\n",
            "Proceed (y/n)? Y\n",
            "  Successfully uninstalled gensim-3.6.0\n",
            "Looking in indexes: https://pypi.org/simple, https://us-python.pkg.dev/colab-wheels/public/simple/\n",
            "Collecting gensim==3.8.3\n",
            "  Downloading gensim-3.8.3-cp37-cp37m-manylinux1_x86_64.whl (24.2 MB)\n",
            "\u001b[K     |████████████████████████████████| 24.2 MB 1.5 MB/s \n",
            "\u001b[?25hRequirement already satisfied: smart-open>=1.8.1 in /usr/local/lib/python3.7/dist-packages (from gensim==3.8.3) (6.0.0)\n",
            "Requirement already satisfied: scipy>=0.18.1 in /usr/local/lib/python3.7/dist-packages (from gensim==3.8.3) (1.4.1)\n",
            "Requirement already satisfied: numpy>=1.11.3 in /usr/local/lib/python3.7/dist-packages (from gensim==3.8.3) (1.21.6)\n",
            "Requirement already satisfied: six>=1.5.0 in /usr/local/lib/python3.7/dist-packages (from gensim==3.8.3) (1.15.0)\n",
            "Installing collected packages: gensim\n",
            "Successfully installed gensim-3.8.3\n",
            "Looking in indexes: https://pypi.org/simple, https://us-python.pkg.dev/colab-wheels/public/simple/\n",
            "Requirement already satisfied: nltk in /usr/local/lib/python3.7/dist-packages (3.2.5)\n",
            "Requirement already satisfied: six in /usr/local/lib/python3.7/dist-packages (from nltk) (1.15.0)\n"
          ]
        }
      ],
      "source": [
        "!pip uninstall gensim\n",
        "!pip install gensim==3.8.3\n",
        "!pip install nltk"
      ]
    },
    {
      "cell_type": "code",
      "execution_count": 2,
      "metadata": {
        "id": "sQmbfqk9h84w"
      },
      "outputs": [],
      "source": [
        "from nltk.tokenize import sent_tokenize, word_tokenize\n",
        "from gensim.test.utils import common_texts\n",
        "from gensim.models.doc2vec import Doc2Vec, TaggedDocument\n",
        "import gensim\n",
        "import pandas as pd\n",
        "from datetime import datetime\n",
        "import numpy as np\n",
        "\n",
        "%matplotlib notebook\n",
        "import matplotlib.pyplot as plt\n",
        "plt.style.use('ggplot')\n",
        "from sklearn.decomposition import PCA\n"
      ]
    },
    {
      "cell_type": "code",
      "execution_count": 3,
      "metadata": {
        "colab": {
          "base_uri": "https://localhost:8080/"
        },
        "id": "F0IsSDJNiGTp",
        "outputId": "3cad69db-d454-4013-9467-7d8306833e48"
      },
      "outputs": [
        {
          "output_type": "stream",
          "name": "stdout",
          "text": [
            "Mounted at /content/drive\n"
          ]
        }
      ],
      "source": [
        "from google.colab import drive\n",
        "drive.mount('/content/drive')\n",
        "\n",
        "DATA_PATH = '/content/drive/My Drive/CS 48000 Project'"
      ]
    },
    {
      "cell_type": "code",
      "source": [
        "df = pd.read_csv(DATA_PATH+'/SO_data_error_queries.csv')"
      ],
      "metadata": {
        "id": "veCyU_sdMayw"
      },
      "execution_count": 4,
      "outputs": []
    },
    {
      "cell_type": "code",
      "source": [
        "dfa = pd.read_csv(DATA_PATH+'/SO_error_titles_answer_data.csv')"
      ],
      "metadata": {
        "id": "pJ-xHd_5-yv8"
      },
      "execution_count": 5,
      "outputs": []
    },
    {
      "cell_type": "code",
      "source": [
        "df.shape"
      ],
      "metadata": {
        "colab": {
          "base_uri": "https://localhost:8080/"
        },
        "id": "9CHV6Q2PNrg9",
        "outputId": "fe054816-535b-42fe-cd9c-b9c442aa4ee4"
      },
      "execution_count": 6,
      "outputs": [
        {
          "output_type": "execute_result",
          "data": {
            "text/plain": [
              "(25068, 12)"
            ]
          },
          "metadata": {},
          "execution_count": 6
        }
      ]
    },
    {
      "cell_type": "code",
      "source": [
        "df.dtypes"
      ],
      "metadata": {
        "colab": {
          "base_uri": "https://localhost:8080/"
        },
        "id": "lvrbvCp8yrw7",
        "outputId": "6ce03a31-2dc6-4eb3-cda2-dd982872e336"
      },
      "execution_count": 7,
      "outputs": [
        {
          "output_type": "execute_result",
          "data": {
            "text/plain": [
              "Unnamed: 0              int64\n",
              "tags                   object\n",
              "is_answered              bool\n",
              "view_count              int64\n",
              "answer_count            int64\n",
              "score                   int64\n",
              "last_activity_date     object\n",
              "creation_date          object\n",
              "question_id             int64\n",
              "link                   object\n",
              "title                  object\n",
              "accepted_answer_id    float64\n",
              "dtype: object"
            ]
          },
          "metadata": {},
          "execution_count": 7
        }
      ]
    },
    {
      "cell_type": "code",
      "source": [
        "import requests\n",
        "import json\n",
        "import pandas as pd\n",
        "import time\n",
        "from datetime import datetime\n",
        "import numpy as np\n",
        "import re\n",
        "import nltk\n",
        "nltk.download('stopwords')\n",
        "from nltk.corpus import stopwords\n",
        "from nltk.stem import PorterStemmer\n",
        "from nltk.tokenize import word_tokenize\n",
        "from nltk.tokenize import RegexpTokenizer\n",
        "nltk.download('punkt')\n",
        "import warnings\n",
        "warnings.filterwarnings(\"ignore\")\n",
        "\n",
        "def preprocess(text: str):\n",
        "    \n",
        "    stop_words = set(stopwords.words('english'))\n",
        "    stop_words.add(\"python\")\n",
        "    \n",
        "    tokenizer = RegexpTokenizer(r'\\w+')\n",
        "\n",
        "    text = \" \".join(tokenizer.tokenize(text))\n",
        "\n",
        "    #print(\"w/o punctuation:\", text)\n",
        "    word_tokens = word_tokenize(text)\n",
        "    \n",
        "    #print(\"tokens:\",  str(word_tokens))\n",
        "\n",
        "    lower_case = [w.lower() for w in word_tokens]\n",
        "\n",
        "    #print(\"lowercase: \",str(lower_case))\n",
        "    filtered_sentence = [w for w in lower_case if not w in stop_words]\n",
        "    #print(\"stop words:\",str(filtered_sentence))\n",
        "    ps = PorterStemmer()\n",
        "\n",
        "    stemmed_text = [ps.stem(w) for w in filtered_sentence]\n",
        "    #print(\"stemmed:\",str(stemmed_text))\n",
        "\n",
        "    return \" \".join(stemmed_text)"
      ],
      "metadata": {
        "colab": {
          "base_uri": "https://localhost:8080/"
        },
        "id": "3qlfdTZvXSjN",
        "outputId": "25c8c122-6f99-44ec-f5a9-453d32aaab7a"
      },
      "execution_count": 8,
      "outputs": [
        {
          "output_type": "stream",
          "name": "stdout",
          "text": [
            "[nltk_data] Downloading package stopwords to /root/nltk_data...\n",
            "[nltk_data]   Unzipping corpora/stopwords.zip.\n",
            "[nltk_data] Downloading package punkt to /root/nltk_data...\n",
            "[nltk_data]   Unzipping tokenizers/punkt.zip.\n"
          ]
        }
      ]
    },
    {
      "cell_type": "code",
      "execution_count": 9,
      "metadata": {
        "id": "-eoGg-l7gXYs"
      },
      "outputs": [],
      "source": [
        "from sklearn.model_selection import train_test_split\n",
        "train= df[['title','question_id']]\n",
        "train['title'] = train['title'].apply(preprocess)"
      ]
    },
    {
      "cell_type": "code",
      "source": [
        "def read_corpus(fname, tokens_only=False):\n",
        "        for i, line in enumerate(fname):\n",
        "            tokens = gensim.utils.simple_preprocess(line)\n",
        "            if tokens_only:\n",
        "                yield tokens\n",
        "            else:\n",
        "                # For training data, add tags\n",
        "                yield gensim.models.doc2vec.TaggedDocument(tokens, [i])"
      ],
      "metadata": {
        "id": "7shTrIMJBo9n"
      },
      "execution_count": 12,
      "outputs": []
    },
    {
      "cell_type": "code",
      "execution_count": 13,
      "metadata": {
        "id": "yIh1D59EYg7t"
      },
      "outputs": [],
      "source": [
        "train_corpus = pd.DataFrame()\n",
        "train_corpus[\"title\"] = list(read_corpus(train[\"title\"]))\n",
        "train_corpus[\"question_id\"] = train[\"question_id\"]"
      ]
    },
    {
      "cell_type": "code",
      "execution_count": 14,
      "metadata": {
        "colab": {
          "base_uri": "https://localhost:8080/",
          "height": 112
        },
        "id": "U31tPU9KZPH0",
        "outputId": "eebb7885-f29d-4cbb-f993-df0981303ecb"
      },
      "outputs": [
        {
          "output_type": "execute_result",
          "data": {
            "text/plain": [
              "                                               title  question_id\n",
              "0  ([error, instal, geopanda, gdal, api, version,...     54734667\n",
              "1  ([unicod, error, unicodeescap, codec, decod, b...     37400974"
            ],
            "text/html": [
              "\n",
              "  <div id=\"df-d8f5cd6a-ea93-4b29-a789-acee4a978c83\">\n",
              "    <div class=\"colab-df-container\">\n",
              "      <div>\n",
              "<style scoped>\n",
              "    .dataframe tbody tr th:only-of-type {\n",
              "        vertical-align: middle;\n",
              "    }\n",
              "\n",
              "    .dataframe tbody tr th {\n",
              "        vertical-align: top;\n",
              "    }\n",
              "\n",
              "    .dataframe thead th {\n",
              "        text-align: right;\n",
              "    }\n",
              "</style>\n",
              "<table border=\"1\" class=\"dataframe\">\n",
              "  <thead>\n",
              "    <tr style=\"text-align: right;\">\n",
              "      <th></th>\n",
              "      <th>title</th>\n",
              "      <th>question_id</th>\n",
              "    </tr>\n",
              "  </thead>\n",
              "  <tbody>\n",
              "    <tr>\n",
              "      <th>0</th>\n",
              "      <td>([error, instal, geopanda, gdal, api, version,...</td>\n",
              "      <td>54734667</td>\n",
              "    </tr>\n",
              "    <tr>\n",
              "      <th>1</th>\n",
              "      <td>([unicod, error, unicodeescap, codec, decod, b...</td>\n",
              "      <td>37400974</td>\n",
              "    </tr>\n",
              "  </tbody>\n",
              "</table>\n",
              "</div>\n",
              "      <button class=\"colab-df-convert\" onclick=\"convertToInteractive('df-d8f5cd6a-ea93-4b29-a789-acee4a978c83')\"\n",
              "              title=\"Convert this dataframe to an interactive table.\"\n",
              "              style=\"display:none;\">\n",
              "        \n",
              "  <svg xmlns=\"http://www.w3.org/2000/svg\" height=\"24px\"viewBox=\"0 0 24 24\"\n",
              "       width=\"24px\">\n",
              "    <path d=\"M0 0h24v24H0V0z\" fill=\"none\"/>\n",
              "    <path d=\"M18.56 5.44l.94 2.06.94-2.06 2.06-.94-2.06-.94-.94-2.06-.94 2.06-2.06.94zm-11 1L8.5 8.5l.94-2.06 2.06-.94-2.06-.94L8.5 2.5l-.94 2.06-2.06.94zm10 10l.94 2.06.94-2.06 2.06-.94-2.06-.94-.94-2.06-.94 2.06-2.06.94z\"/><path d=\"M17.41 7.96l-1.37-1.37c-.4-.4-.92-.59-1.43-.59-.52 0-1.04.2-1.43.59L10.3 9.45l-7.72 7.72c-.78.78-.78 2.05 0 2.83L4 21.41c.39.39.9.59 1.41.59.51 0 1.02-.2 1.41-.59l7.78-7.78 2.81-2.81c.8-.78.8-2.07 0-2.86zM5.41 20L4 18.59l7.72-7.72 1.47 1.35L5.41 20z\"/>\n",
              "  </svg>\n",
              "      </button>\n",
              "      \n",
              "  <style>\n",
              "    .colab-df-container {\n",
              "      display:flex;\n",
              "      flex-wrap:wrap;\n",
              "      gap: 12px;\n",
              "    }\n",
              "\n",
              "    .colab-df-convert {\n",
              "      background-color: #E8F0FE;\n",
              "      border: none;\n",
              "      border-radius: 50%;\n",
              "      cursor: pointer;\n",
              "      display: none;\n",
              "      fill: #1967D2;\n",
              "      height: 32px;\n",
              "      padding: 0 0 0 0;\n",
              "      width: 32px;\n",
              "    }\n",
              "\n",
              "    .colab-df-convert:hover {\n",
              "      background-color: #E2EBFA;\n",
              "      box-shadow: 0px 1px 2px rgba(60, 64, 67, 0.3), 0px 1px 3px 1px rgba(60, 64, 67, 0.15);\n",
              "      fill: #174EA6;\n",
              "    }\n",
              "\n",
              "    [theme=dark] .colab-df-convert {\n",
              "      background-color: #3B4455;\n",
              "      fill: #D2E3FC;\n",
              "    }\n",
              "\n",
              "    [theme=dark] .colab-df-convert:hover {\n",
              "      background-color: #434B5C;\n",
              "      box-shadow: 0px 1px 3px 1px rgba(0, 0, 0, 0.15);\n",
              "      filter: drop-shadow(0px 1px 2px rgba(0, 0, 0, 0.3));\n",
              "      fill: #FFFFFF;\n",
              "    }\n",
              "  </style>\n",
              "\n",
              "      <script>\n",
              "        const buttonEl =\n",
              "          document.querySelector('#df-d8f5cd6a-ea93-4b29-a789-acee4a978c83 button.colab-df-convert');\n",
              "        buttonEl.style.display =\n",
              "          google.colab.kernel.accessAllowed ? 'block' : 'none';\n",
              "\n",
              "        async function convertToInteractive(key) {\n",
              "          const element = document.querySelector('#df-d8f5cd6a-ea93-4b29-a789-acee4a978c83');\n",
              "          const dataTable =\n",
              "            await google.colab.kernel.invokeFunction('convertToInteractive',\n",
              "                                                     [key], {});\n",
              "          if (!dataTable) return;\n",
              "\n",
              "          const docLinkHtml = 'Like what you see? Visit the ' +\n",
              "            '<a target=\"_blank\" href=https://colab.research.google.com/notebooks/data_table.ipynb>data table notebook</a>'\n",
              "            + ' to learn more about interactive tables.';\n",
              "          element.innerHTML = '';\n",
              "          dataTable['output_type'] = 'display_data';\n",
              "          await google.colab.output.renderOutput(dataTable, element);\n",
              "          const docLink = document.createElement('div');\n",
              "          docLink.innerHTML = docLinkHtml;\n",
              "          element.appendChild(docLink);\n",
              "        }\n",
              "      </script>\n",
              "    </div>\n",
              "  </div>\n",
              "  "
            ]
          },
          "metadata": {},
          "execution_count": 14
        }
      ],
      "source": [
        "train_corpus[:2]"
      ]
    },
    {
      "cell_type": "code",
      "execution_count": 15,
      "metadata": {
        "id": "CashjzQdZZnl"
      },
      "outputs": [],
      "source": [
        "model = gensim.models.doc2vec.Doc2Vec(epochs=20)"
      ]
    },
    {
      "cell_type": "code",
      "execution_count": 16,
      "metadata": {
        "id": "wbZNtFV-Zr-u"
      },
      "outputs": [],
      "source": [
        "model.build_vocab(train_corpus[\"title\"])"
      ]
    },
    {
      "cell_type": "code",
      "execution_count": 17,
      "metadata": {
        "id": "srIODAwpZ4CT"
      },
      "outputs": [],
      "source": [
        "model.train(train_corpus[\"title\"], total_examples=model.corpus_count, epochs=model.epochs)"
      ]
    },
    {
      "cell_type": "code",
      "source": [
        "with open(DATA_PATH+\"/manuel_errors.txt\",\"r\") as f:\n",
        "  p_list= [l.strip() for l in f.readlines()]"
      ],
      "metadata": {
        "id": "EDdu3tHMgmfT"
      },
      "execution_count": 18,
      "outputs": []
    },
    {
      "cell_type": "code",
      "source": [
        "p_list[0:5]"
      ],
      "metadata": {
        "id": "COIlDlCvg1Wn",
        "colab": {
          "base_uri": "https://localhost:8080/"
        },
        "outputId": "30b8d3ad-07a6-4f08-d841-f9212a2ec297"
      },
      "execution_count": 20,
      "outputs": [
        {
          "output_type": "execute_result",
          "data": {
            "text/plain": [
              "['TypeError: Connect() with one argument',\n",
              " 'ModuleNot FoundError virtual',\n",
              " 'ValueError: NumPy bool array can’t assign 100 input to 90 output where mask true',\n",
              " 'Pandas data frame unhashable type error',\n",
              " 'Google-trans-new throws an error on previously working code in Python']"
            ]
          },
          "metadata": {},
          "execution_count": 20
        }
      ]
    },
    {
      "cell_type": "code",
      "source": [
        "result = dict()\n",
        "id = 0\n",
        "\n",
        "for p in p_list:\n",
        "  result[id] = dict()\n",
        "  result[id][\"Test Input\"] = p\n",
        "  p = preprocess(p)\n",
        "  inf_vec = model.infer_vector(p.split())\n",
        "  sims = model.docvecs.most_similar([inf_vec], topn=len(model.docvecs))\n",
        "  result[id][\"The Closest\"] = dict()\n",
        "  result[id][\"The Closest\"][\"ID\"] = int(sims[0][0])\n",
        "  result[id][\"The Closest\"][\"Words\"] =  df[\"title\"][df[\"question_id\"] == train_corpus.iloc[sims[0][0]][\"question_id\"]].to_string()\n",
        "  result[id][\"The Closest\"][\"isValid\"] =  True\n",
        "\n",
        "  result[id][\"Second Closest\"] = dict()\n",
        "  result[id][\"Second Closest\"][\"ID\"] = int(sims[1][0])\n",
        "  result[id][\"Second Closest\"][\"Words\"] =  df[\"title\"][df[\"question_id\"] == train_corpus.iloc[sims[1][0]][\"question_id\"]].to_string()\n",
        "  result[id][\"Second Closest\"][\"isValid\"] =  True\n",
        "\n",
        "  id+=1"
      ],
      "metadata": {
        "id": "PJqbE2OcVQ10"
      },
      "execution_count": 22,
      "outputs": []
    },
    {
      "cell_type": "code",
      "source": [
        "df[\"title\"][df[\"question_id\"] == train_corpus.iloc[sims[0][0]][\"question_id\"]]"
      ],
      "metadata": {
        "colab": {
          "base_uri": "https://localhost:8080/"
        },
        "id": "Bzhp2kYGippg",
        "outputId": "9608a0cf-40ee-46ae-bf87-75c7b4a1b446"
      },
      "execution_count": 23,
      "outputs": [
        {
          "output_type": "execute_result",
          "data": {
            "text/plain": [
              "6218    python pygame pygame error display surface quit\n",
              "Name: title, dtype: object"
            ]
          },
          "metadata": {},
          "execution_count": 23
        }
      ]
    },
    {
      "cell_type": "code",
      "source": [
        "with open (\"eval.json\",\"w\") as file:\n",
        "  json.dump(result, file,indent=4)"
      ],
      "metadata": {
        "id": "3MCkSqa0iYyV"
      },
      "execution_count": 24,
      "outputs": []
    },
    {
      "cell_type": "code",
      "source": [
        "f = open(DATA_PATH+'/eval.json')\n",
        "data = json.load(f)\n",
        "list(data.items())[0:3]"
      ],
      "metadata": {
        "id": "-jaM1bYAid6P",
        "colab": {
          "base_uri": "https://localhost:8080/"
        },
        "outputId": "38cd0a64-7dab-4a1a-9847-38ddf2b3e16c"
      },
      "execution_count": 30,
      "outputs": [
        {
          "output_type": "execute_result",
          "data": {
            "text/plain": [
              "[('0',\n",
              "  {'Second Closest': {'ID': '21025    38616858',\n",
              "    'Similarity': 0.5582849979400635,\n",
              "    'Words': '21025    cqlsh connection error ref take keyword arguments',\n",
              "    'isValid': True},\n",
              "   'Test Input': 'TypeError: Connect() with one argument',\n",
              "   'The Closest': {'ID': '6536    19143091',\n",
              "    'Similarity': 0.797059178352356,\n",
              "    'Words': '6536    typeerror connect takes exactly one argument',\n",
              "    'isValid': True}}),\n",
              " ('1',\n",
              "  {'Second Closest': {'ID': '9866    67312258',\n",
              "    'Similarity': 0.9315162301063538,\n",
              "    'Words': '9866    unboundlocalerror local variable var reference...',\n",
              "    'isValid': False},\n",
              "   'Test Input': 'ModuleNot FoundError virtual',\n",
              "   'The Closest': {'ID': '21151    58577235',\n",
              "    'Similarity': 0.9521731734275818,\n",
              "    'Words': '21151    error activating virtual environment',\n",
              "    'isValid': False}}),\n",
              " ('2',\n",
              "  {'Second Closest': {'ID': '542    71880746',\n",
              "    'Similarity': 0.7524867057800293,\n",
              "    'Words': '542    xarray missingspatialdimensionerror assign coo...',\n",
              "    'isValid': True},\n",
              "   'Test Input': 'ValueError: NumPy bool array can’t assign 100 input to 90 output where mask true',\n",
              "   'The Closest': {'ID': '6538    69292892',\n",
              "    'Similarity': 0.807411789894104,\n",
              "    'Words': '6538    get error valueerror numpy boolean array index...',\n",
              "    'isValid': False}})]"
            ]
          },
          "metadata": {},
          "execution_count": 30
        }
      ]
    },
    {
      "cell_type": "code",
      "source": [
        "for id in data:\n",
        "  p = data[id][\"Test Input\"]\n",
        "  p = preprocess(p)\n",
        "  inf_vec = model.infer_vector(p.split())\n",
        "  sims = model.docvecs.most_similar([inf_vec], topn=len(model.docvecs))\n",
        "  data[id][\"The Closest\"][\"Similarity\"] = float(sims[0][1])\n",
        "  data[id][\"Second Closest\"][\"Similarity\"] = float(sims[1][1])\n",
        "  data[id][\"The Closest\"][\"Words\"] =  df[\"title\"][df[\"question_id\"] == train_corpus.iloc[sims[0][0]][\"question_id\"]].to_string()\n",
        "  data[id][\"Second Closest\"][\"Words\"] =  df[\"title\"][df[\"question_id\"] == train_corpus.iloc[sims[1][0]][\"question_id\"]].to_string()\n",
        "  data[id][\"Second Closest\"][\"ID\"] =  df[\"question_id\"][df[\"question_id\"] == train_corpus.iloc[sims[1][0]][\"question_id\"]].to_string()\n",
        "  data[id][\"The Closest\"][\"ID\"] =  df[\"question_id\"][df[\"question_id\"] == train_corpus.iloc[sims[0][0]][\"question_id\"]].to_string()"
      ],
      "metadata": {
        "id": "gHPbi3KRupT8"
      },
      "execution_count": 31,
      "outputs": []
    },
    {
      "cell_type": "markdown",
      "source": [
        "\"When I use a dictionary to translate numbers written in Spanish words to numeric characters, I get a KeyError: 'y'. What should I do to solve?\"\n",
        "\n",
        "\"Google-trans-new throws an error on previously working code in Python\"\n",
        "\n",
        "\"Import error while using custom modules in Python 3\"\n",
        "\n",
        "\"Although there is a replit error with the google API, it works in Pycharm\"\n",
        "\n",
        "\"An AttributeErrorr occurs when SQLAlchemy is installed with Poetry\"\n",
        "\n",
        "\"When combining two df in pandas, ValueError: Shape of passed values is (6, 6), indices indicate (4, 6) error\"\n",
        "\n",
        "\"When using Flask, a PyCUDA context error happens\""
      ],
      "metadata": {
        "id": "rl_SVLCVFVl_"
      }
    },
    {
      "cell_type": "code",
      "source": [
        "question = input(\"Enter your question about python: \")\n",
        "\n",
        "p = preprocess(question)\n",
        "inf_vec = model.infer_vector(p.split())\n",
        "sims = model.docvecs.most_similar([inf_vec], topn=len(model.docvecs))\n",
        "\n",
        "question_id1 =  str(train_corpus.iloc[sims[0][0]][\"question_id\"])\n",
        "similarity1 = float(sims[0][1])\n",
        "t1=df[\"title\"][df[\"question_id\"] == train_corpus.iloc[sims[0][0]][\"question_id\"]].to_string()\n",
        "title1 = t1[t1.find(\" \"):].strip()\n",
        "question_id2 =  str(train_corpus.iloc[sims[1][0]][\"question_id\"])\n",
        "similarity2 = float(sims[1][1])\n",
        "\n",
        "t2=df[\"title\"][df[\"question_id\"] == train_corpus.iloc[sims[1][0]][\"question_id\"]].to_string()\n",
        "title2 =  t2[t2.find(\" \"):].strip()\n",
        "\n",
        "isValid1=False\n",
        "isValid2=False\n",
        "\n",
        "for item in data.items():\n",
        "  if item[1][\"The Closest\"][\"ID\"].split()[1]==question_id1:\n",
        "    isValid1=item[1][\"The Closest\"][\"isValid\"]\n",
        "  if item[1][\"Second Closest\"][\"ID\"].split()[1]==question_id2:\n",
        "    isValid2=item[1][\"Second Closest\"][\"isValid\"]\n",
        "\n",
        "if isValid1:\n",
        "    print(\"This question sounds similar to yours:\",title1)\n",
        "    answers=dfa[dfa[\"question_id\"]==int(question_id1)]\n",
        "    print(\"Links and explanations to answers to this question:\")\n",
        "    counter=1\n",
        "    for index, row in answers.iterrows():\n",
        "        print(str(counter)+\".\",row[\"link\"] )\n",
        "        soup = BeautifulSoup(row[\"body\"])\n",
        "        print(soup.get_text())\n",
        "        counter+=1\n",
        "    \n",
        "elif isValid2:\n",
        "    print(\"This question sounds similar to yours:\",title2)\n",
        "    answers=dfa[dfa[\"question_id\"]==int(question_id2)]\n",
        "    print(\"Links and explanations to answers to this question:\")\n",
        "    counter=1\n",
        "    for index, row in answers.iterrows():\n",
        "        print(str(counter)+\".\",row[\"link\"] )\n",
        "        soup = BeautifulSoup(row[\"body\"])\n",
        "        print(soup.get_text())\n",
        "        counter+=1\n",
        "else:\n",
        "    print(\"We couldn't find any matches :(\")"
      ],
      "metadata": {
        "colab": {
          "base_uri": "https://localhost:8080/"
        },
        "id": "Do4xluOH8BmQ",
        "outputId": "33007e50-2f8f-4c35-b5fd-f1561d100949"
      },
      "execution_count": 111,
      "outputs": [
        {
          "output_type": "stream",
          "name": "stdout",
          "text": [
            "Enter your question about python: When using Flask, a PyCUDA context error happens\n",
            "We couldn't find any matches :(\n"
          ]
        }
      ]
    },
    {
      "cell_type": "code",
      "source": [
        "from bs4 import BeautifulSoup"
      ],
      "metadata": {
        "id": "dcryK1haRwus"
      },
      "execution_count": null,
      "outputs": []
    },
    {
      "cell_type": "code",
      "source": [
        "totalSimilarity = 0\n",
        "countFirst = 0\n",
        "countSecond = 0\n",
        "countValid = 0\n",
        "\n",
        "wrong_similarity= 0\n",
        "for id in data:\n",
        "  if data[id][\"The Closest\"][\"isValid\"] == True:\n",
        "    countFirst+=1\n",
        "    countValid+=1\n",
        "    totalSimilarity += data[id][\"The Closest\"][\"Similarity\"]\n",
        "  elif data[id][\"Second Closest\"][\"isValid\"] == True and data[id][\"The Closest\"][\"isValid\"] == False:\n",
        "    countSecond+=1\n",
        "    countValid+=1\n",
        "    totalSimilarity += data[id][\"Second Closest\"][\"Similarity\"]\n",
        "  elif  data[id][\"Second Closest\"][\"isValid\"] == False and data[id][\"The Closest\"][\"isValid\"] == False:\n",
        "    wrong_similarity += data[id][\"The Closest\"][\"Similarity\"]"
      ],
      "metadata": {
        "id": "_vdxnVmo7YOQ"
      },
      "execution_count": 94,
      "outputs": []
    },
    {
      "cell_type": "code",
      "source": [
        "print(\"Percentage of times when the first suggestion is true:\",countFirst/len(data))"
      ],
      "metadata": {
        "colab": {
          "base_uri": "https://localhost:8080/"
        },
        "id": "r_srE8iH7xiy",
        "outputId": "59cd2802-6e7e-4af8-ea60-23c9ef2186d9"
      },
      "execution_count": 91,
      "outputs": [
        {
          "output_type": "stream",
          "name": "stdout",
          "text": [
            "Percentage of times when the first suggestion is true: 0.5396039603960396\n"
          ]
        }
      ]
    },
    {
      "cell_type": "code",
      "source": [
        "print(\"Percentage of times when only the second suggestion is true:\",countSecond/len(data))"
      ],
      "metadata": {
        "colab": {
          "base_uri": "https://localhost:8080/"
        },
        "id": "q0x4cL6c8OZ_",
        "outputId": "3d6032ad-fcf7-4915-9e21-579a015816fe"
      },
      "execution_count": 92,
      "outputs": [
        {
          "output_type": "stream",
          "name": "stdout",
          "text": [
            "Percentage of times when only the second suggestion is true: 0.0594059405940594\n"
          ]
        }
      ]
    },
    {
      "cell_type": "code",
      "source": [
        "print(\"Percentage of times when we actually find a good suggestion:\",countValid/(len(data)))"
      ],
      "metadata": {
        "colab": {
          "base_uri": "https://localhost:8080/"
        },
        "id": "Rwnr6etg8jqp",
        "outputId": "df6e8337-454e-4689-8394-82fd7213a3ed"
      },
      "execution_count": 93,
      "outputs": [
        {
          "output_type": "stream",
          "name": "stdout",
          "text": [
            "Percentage of times when we actually find a good suggestion: 0.599009900990099\n"
          ]
        }
      ]
    },
    {
      "cell_type": "code",
      "source": [
        "print(\"Average similarity score for the good suggestions:\",totalSimilarity/countValid)"
      ],
      "metadata": {
        "colab": {
          "base_uri": "https://localhost:8080/"
        },
        "id": "X2q0L3BQ9HHb",
        "outputId": "95f2977c-5a7d-4007-dcd9-81122dfe8655"
      },
      "execution_count": 112,
      "outputs": [
        {
          "output_type": "stream",
          "name": "stdout",
          "text": [
            "Average similarity score for the good suggestions: 0.7961172274321564\n"
          ]
        }
      ]
    },
    {
      "cell_type": "code",
      "source": [
        "print(\"Average similarity score for the bad suggestions as the closest:\",wrong_similarity/countValid)"
      ],
      "metadata": {
        "colab": {
          "base_uri": "https://localhost:8080/"
        },
        "id": "uGZwg9KUTESf",
        "outputId": "26b1bd89-de31-46f6-bf6a-41440e0895dc"
      },
      "execution_count": 95,
      "outputs": [
        {
          "output_type": "stream",
          "name": "stdout",
          "text": [
            "Average similarity score for the bad suggestions as the closest: 0.5314548606714926\n"
          ]
        }
      ]
    },
    {
      "cell_type": "code",
      "source": [
        "with open (\"eval.json\",\"w\") as file:\n",
        "  json.dump(data, file,indent=4)"
      ],
      "metadata": {
        "id": "jPhrnat_9cQ6"
      },
      "execution_count": null,
      "outputs": []
    },
    {
      "cell_type": "code",
      "source": [
        "from google.colab import files\n",
        "files.download(\"eval.json\")"
      ],
      "metadata": {
        "colab": {
          "base_uri": "https://localhost:8080/",
          "height": 17
        },
        "id": "es7Bqmeb9lLG",
        "outputId": "5e20fcbf-a771-4e39-94e7-f77af11617fe"
      },
      "execution_count": null,
      "outputs": [
        {
          "output_type": "display_data",
          "data": {
            "text/plain": [
              "<IPython.core.display.Javascript object>"
            ],
            "application/javascript": [
              "\n",
              "    async function download(id, filename, size) {\n",
              "      if (!google.colab.kernel.accessAllowed) {\n",
              "        return;\n",
              "      }\n",
              "      const div = document.createElement('div');\n",
              "      const label = document.createElement('label');\n",
              "      label.textContent = `Downloading \"${filename}\": `;\n",
              "      div.appendChild(label);\n",
              "      const progress = document.createElement('progress');\n",
              "      progress.max = size;\n",
              "      div.appendChild(progress);\n",
              "      document.body.appendChild(div);\n",
              "\n",
              "      const buffers = [];\n",
              "      let downloaded = 0;\n",
              "\n",
              "      const channel = await google.colab.kernel.comms.open(id);\n",
              "      // Send a message to notify the kernel that we're ready.\n",
              "      channel.send({})\n",
              "\n",
              "      for await (const message of channel.messages) {\n",
              "        // Send a message to notify the kernel that we're ready.\n",
              "        channel.send({})\n",
              "        if (message.buffers) {\n",
              "          for (const buffer of message.buffers) {\n",
              "            buffers.push(buffer);\n",
              "            downloaded += buffer.byteLength;\n",
              "            progress.value = downloaded;\n",
              "          }\n",
              "        }\n",
              "      }\n",
              "      const blob = new Blob(buffers, {type: 'application/binary'});\n",
              "      const a = document.createElement('a');\n",
              "      a.href = window.URL.createObjectURL(blob);\n",
              "      a.download = filename;\n",
              "      div.appendChild(a);\n",
              "      a.click();\n",
              "      div.remove();\n",
              "    }\n",
              "  "
            ]
          },
          "metadata": {}
        },
        {
          "output_type": "display_data",
          "data": {
            "text/plain": [
              "<IPython.core.display.Javascript object>"
            ],
            "application/javascript": [
              "download(\"download_4b3474f9-d388-4099-abc0-bfde00766953\", \"eval.json\", 114324)"
            ]
          },
          "metadata": {}
        }
      ]
    }
  ],
  "metadata": {
    "colab": {
      "name": "doc2vec_model.ipynb",
      "provenance": [],
      "collapsed_sections": []
    },
    "interpreter": {
      "hash": "8c70f4aa3554aaaed3cc5c8d2c85b14440771e0fc6a8628f9c5a060182147ecf"
    },
    "kernelspec": {
      "display_name": "Python 3.9.2 64-bit",
      "language": "python",
      "name": "python3"
    },
    "language_info": {
      "codemirror_mode": {
        "name": "ipython",
        "version": 3
      },
      "file_extension": ".py",
      "mimetype": "text/x-python",
      "name": "python",
      "nbconvert_exporter": "python",
      "pygments_lexer": "ipython3",
      "version": "3.9.2"
    }
  },
  "nbformat": 4,
  "nbformat_minor": 0
}