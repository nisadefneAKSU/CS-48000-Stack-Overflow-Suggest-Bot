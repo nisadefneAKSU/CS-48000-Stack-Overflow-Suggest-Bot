{
  "nbformat": 4,
  "nbformat_minor": 0,
  "metadata": {
    "colab": {
      "name": "test_data_preprocess_tfidf.ipynb",
      "provenance": []
    },
    "kernelspec": {
      "name": "python3",
      "display_name": "Python 3"
    },
    "language_info": {
      "name": "python"
    },
    "accelerator": "GPU"
  },
  "cells": [
    {
      "cell_type": "code",
      "execution_count": null,
      "metadata": {
        "colab": {
          "base_uri": "https://localhost:8080/"
        },
        "id": "u1stw1kdoVk-",
        "outputId": "51b7e06e-c780-4440-b768-c2a6dc0acf4b"
      },
      "outputs": [
        {
          "output_type": "stream",
          "name": "stdout",
          "text": [
            "Drive already mounted at /content/drive; to attempt to forcibly remount, call drive.mount(\"/content/drive\", force_remount=True).\n"
          ]
        }
      ],
      "source": [
        "import pandas as pd\n",
        "from google.colab import drive\n",
        "import json\n",
        "drive.mount('/content/drive')\n",
        "\n",
        "DATA_PATH = '/content/drive/MyDrive/CS 48000 Project'"
      ]
    },
    {
      "cell_type": "code",
      "source": [
        "!pip3 install pickle5\n",
        "import pickle5 as pickle"
      ],
      "metadata": {
        "colab": {
          "base_uri": "https://localhost:8080/"
        },
        "id": "UOBdvbDspt0I",
        "outputId": "e96bb300-8f1a-4c09-a849-b8bbed71b1a3"
      },
      "execution_count": null,
      "outputs": [
        {
          "output_type": "stream",
          "name": "stdout",
          "text": [
            "Requirement already satisfied: pickle5 in /usr/local/lib/python3.7/dist-packages (0.0.12)\n"
          ]
        }
      ]
    },
    {
      "cell_type": "code",
      "source": [
        "infile = open(DATA_PATH+'/bugfixes_valid.pickle','rb')\n",
        "df = pickle.load(infile)"
      ],
      "metadata": {
        "id": "kvOumcG5o3O5"
      },
      "execution_count": null,
      "outputs": []
    },
    {
      "cell_type": "code",
      "source": [
        "df.info()"
      ],
      "metadata": {
        "colab": {
          "base_uri": "https://localhost:8080/"
        },
        "id": "KnbgyfcMsJL-",
        "outputId": "7c43243f-09a0-4a62-a8ef-64ee48978d94"
      },
      "execution_count": null,
      "outputs": [
        {
          "output_type": "stream",
          "name": "stdout",
          "text": [
            "<class 'pandas.core.frame.DataFrame'>\n",
            "Int64Index: 9457 entries, 94 to 624260\n",
            "Data columns (total 16 columns):\n",
            " #   Column                           Non-Null Count  Dtype \n",
            "---  ------                           --------------  ----- \n",
            " 0   after_merge                      9457 non-null   object\n",
            " 1   before_merge                     9457 non-null   object\n",
            " 2   filename                         9457 non-null   object\n",
            " 3   full_file_code_after_merge       9457 non-null   object\n",
            " 4   full_file_code_before_merge      9457 non-null   object\n",
            " 5   function_name                    9457 non-null   object\n",
            " 6   url                              9457 non-null   object\n",
            " 7   source code and errors           9457 non-null   object\n",
            " 8   full_traceback                   9457 non-null   object\n",
            " 9   traceback_type                   9457 non-null   object\n",
            " 10  before_merge_without_docstrings  9457 non-null   object\n",
            " 11  after_merge_without_docstrings   9457 non-null   object\n",
            " 12  before_merge_docstrings          9457 non-null   object\n",
            " 13  after_merge_docstrings           9457 non-null   object\n",
            " 14  path_to_snippet_before_merge     9457 non-null   object\n",
            " 15  path_to_snippet_after_merge      9457 non-null   object\n",
            "dtypes: object(16)\n",
            "memory usage: 1.2+ MB\n"
          ]
        }
      ]
    },
    {
      "cell_type": "code",
      "source": [
        " # Let's drop columns that are not necessary for our project.\n",
        "\n",
        "dropList = [\"after_merge\", \"before_merge\", \"full_file_code_after_merge\",\"full_file_code_before_merge\",\n",
        "            \"before_merge_without_docstrings\", \"after_merge_without_docstrings\",\"before_merge_docstrings\",\n",
        "            \"after_merge_docstrings\",\"path_to_snippet_before_merge\", \"path_to_snippet_after_merge\"]\n",
        "\n",
        "for col in dropList:\n",
        "  df.drop(col, axis = 1, inplace = True)"
      ],
      "metadata": {
        "id": "XbquAzjtsTGv"
      },
      "execution_count": null,
      "outputs": []
    },
    {
      "cell_type": "code",
      "source": [
        "# Now, we are left with the following columns\n",
        "df.dtypes"
      ],
      "metadata": {
        "colab": {
          "base_uri": "https://localhost:8080/"
        },
        "id": "44beLHqup-bW",
        "outputId": "3049278e-9a9f-4b24-a8f4-4cc10a548c33"
      },
      "execution_count": null,
      "outputs": [
        {
          "output_type": "execute_result",
          "data": {
            "text/plain": [
              "filename                  object\n",
              "function_name             object\n",
              "url                       object\n",
              "source code and errors    object\n",
              "full_traceback            object\n",
              "traceback_type            object\n",
              "dtype: object"
            ]
          },
          "metadata": {},
          "execution_count": 7
        }
      ]
    },
    {
      "cell_type": "code",
      "source": [
        "df.head()"
      ],
      "metadata": {
        "colab": {
          "base_uri": "https://localhost:8080/",
          "height": 354
        },
        "id": "AqDN9rvUrE-D",
        "outputId": "ad5218e3-1e15-4a17-e199-8ae2626d9966"
      },
      "execution_count": null,
      "outputs": [
        {
          "output_type": "execute_result",
          "data": {
            "text/plain": [
              "                                  filename        function_name  \\\n",
              "94    skimage/transform/hough_transform.py     hough_line_peaks   \n",
              "178      skimage/measure/_find_contours.py        find_contours   \n",
              "179      skimage/measure/_find_contours.py   _assemble_contours   \n",
              "1276                    skimage/io/util.py  file_or_url_context   \n",
              "1322                    skimage/io/util.py  file_or_url_context   \n",
              "\n",
              "                                                    url  \\\n",
              "94    https://github.com/scikit-image/scikit-image/i...   \n",
              "178   https://github.com/scikit-image/scikit-image/i...   \n",
              "179   https://github.com/scikit-image/scikit-image/i...   \n",
              "1276  https://github.com/scikit-image/scikit-image/i...   \n",
              "1322  https://github.com/scikit-image/scikit-image/i...   \n",
              "\n",
              "                                 source code and errors  \\\n",
              "94    [{'piece_type': 'other', 'piece_content': 'tes...   \n",
              "178   [{'piece_type': 'reproducing source code', 'pi...   \n",
              "179   [{'piece_type': 'reproducing source code', 'pi...   \n",
              "1276  [{'piece_type': 'reproducing source code', 'pi...   \n",
              "1322  [{'piece_type': 'other', 'piece_content': 'im ...   \n",
              "\n",
              "                                         full_traceback traceback_type  \n",
              "94    Traceback (most recent call last):\\nFile \"<ipy...     IndexError  \n",
              "178   ----------------------------------------------...       KeyError  \n",
              "179   ----------------------------------------------...       KeyError  \n",
              "1276  Traceback (most recent call last):\\nFile \"C:\\P...        OSError  \n",
              "1322  im = imread('https://c1.staticflickr.com/9/837...        OSError  "
            ],
            "text/html": [
              "\n",
              "  <div id=\"df-509ed74d-1152-4c34-9fb1-f20d36621b5e\">\n",
              "    <div class=\"colab-df-container\">\n",
              "      <div>\n",
              "<style scoped>\n",
              "    .dataframe tbody tr th:only-of-type {\n",
              "        vertical-align: middle;\n",
              "    }\n",
              "\n",
              "    .dataframe tbody tr th {\n",
              "        vertical-align: top;\n",
              "    }\n",
              "\n",
              "    .dataframe thead th {\n",
              "        text-align: right;\n",
              "    }\n",
              "</style>\n",
              "<table border=\"1\" class=\"dataframe\">\n",
              "  <thead>\n",
              "    <tr style=\"text-align: right;\">\n",
              "      <th></th>\n",
              "      <th>filename</th>\n",
              "      <th>function_name</th>\n",
              "      <th>url</th>\n",
              "      <th>source code and errors</th>\n",
              "      <th>full_traceback</th>\n",
              "      <th>traceback_type</th>\n",
              "    </tr>\n",
              "  </thead>\n",
              "  <tbody>\n",
              "    <tr>\n",
              "      <th>94</th>\n",
              "      <td>skimage/transform/hough_transform.py</td>\n",
              "      <td>hough_line_peaks</td>\n",
              "      <td>https://github.com/scikit-image/scikit-image/i...</td>\n",
              "      <td>[{'piece_type': 'other', 'piece_content': 'tes...</td>\n",
              "      <td>Traceback (most recent call last):\\nFile \"&lt;ipy...</td>\n",
              "      <td>IndexError</td>\n",
              "    </tr>\n",
              "    <tr>\n",
              "      <th>178</th>\n",
              "      <td>skimage/measure/_find_contours.py</td>\n",
              "      <td>find_contours</td>\n",
              "      <td>https://github.com/scikit-image/scikit-image/i...</td>\n",
              "      <td>[{'piece_type': 'reproducing source code', 'pi...</td>\n",
              "      <td>----------------------------------------------...</td>\n",
              "      <td>KeyError</td>\n",
              "    </tr>\n",
              "    <tr>\n",
              "      <th>179</th>\n",
              "      <td>skimage/measure/_find_contours.py</td>\n",
              "      <td>_assemble_contours</td>\n",
              "      <td>https://github.com/scikit-image/scikit-image/i...</td>\n",
              "      <td>[{'piece_type': 'reproducing source code', 'pi...</td>\n",
              "      <td>----------------------------------------------...</td>\n",
              "      <td>KeyError</td>\n",
              "    </tr>\n",
              "    <tr>\n",
              "      <th>1276</th>\n",
              "      <td>skimage/io/util.py</td>\n",
              "      <td>file_or_url_context</td>\n",
              "      <td>https://github.com/scikit-image/scikit-image/i...</td>\n",
              "      <td>[{'piece_type': 'reproducing source code', 'pi...</td>\n",
              "      <td>Traceback (most recent call last):\\nFile \"C:\\P...</td>\n",
              "      <td>OSError</td>\n",
              "    </tr>\n",
              "    <tr>\n",
              "      <th>1322</th>\n",
              "      <td>skimage/io/util.py</td>\n",
              "      <td>file_or_url_context</td>\n",
              "      <td>https://github.com/scikit-image/scikit-image/i...</td>\n",
              "      <td>[{'piece_type': 'other', 'piece_content': 'im ...</td>\n",
              "      <td>im = imread('https://c1.staticflickr.com/9/837...</td>\n",
              "      <td>OSError</td>\n",
              "    </tr>\n",
              "  </tbody>\n",
              "</table>\n",
              "</div>\n",
              "      <button class=\"colab-df-convert\" onclick=\"convertToInteractive('df-509ed74d-1152-4c34-9fb1-f20d36621b5e')\"\n",
              "              title=\"Convert this dataframe to an interactive table.\"\n",
              "              style=\"display:none;\">\n",
              "        \n",
              "  <svg xmlns=\"http://www.w3.org/2000/svg\" height=\"24px\"viewBox=\"0 0 24 24\"\n",
              "       width=\"24px\">\n",
              "    <path d=\"M0 0h24v24H0V0z\" fill=\"none\"/>\n",
              "    <path d=\"M18.56 5.44l.94 2.06.94-2.06 2.06-.94-2.06-.94-.94-2.06-.94 2.06-2.06.94zm-11 1L8.5 8.5l.94-2.06 2.06-.94-2.06-.94L8.5 2.5l-.94 2.06-2.06.94zm10 10l.94 2.06.94-2.06 2.06-.94-2.06-.94-.94-2.06-.94 2.06-2.06.94z\"/><path d=\"M17.41 7.96l-1.37-1.37c-.4-.4-.92-.59-1.43-.59-.52 0-1.04.2-1.43.59L10.3 9.45l-7.72 7.72c-.78.78-.78 2.05 0 2.83L4 21.41c.39.39.9.59 1.41.59.51 0 1.02-.2 1.41-.59l7.78-7.78 2.81-2.81c.8-.78.8-2.07 0-2.86zM5.41 20L4 18.59l7.72-7.72 1.47 1.35L5.41 20z\"/>\n",
              "  </svg>\n",
              "      </button>\n",
              "      \n",
              "  <style>\n",
              "    .colab-df-container {\n",
              "      display:flex;\n",
              "      flex-wrap:wrap;\n",
              "      gap: 12px;\n",
              "    }\n",
              "\n",
              "    .colab-df-convert {\n",
              "      background-color: #E8F0FE;\n",
              "      border: none;\n",
              "      border-radius: 50%;\n",
              "      cursor: pointer;\n",
              "      display: none;\n",
              "      fill: #1967D2;\n",
              "      height: 32px;\n",
              "      padding: 0 0 0 0;\n",
              "      width: 32px;\n",
              "    }\n",
              "\n",
              "    .colab-df-convert:hover {\n",
              "      background-color: #E2EBFA;\n",
              "      box-shadow: 0px 1px 2px rgba(60, 64, 67, 0.3), 0px 1px 3px 1px rgba(60, 64, 67, 0.15);\n",
              "      fill: #174EA6;\n",
              "    }\n",
              "\n",
              "    [theme=dark] .colab-df-convert {\n",
              "      background-color: #3B4455;\n",
              "      fill: #D2E3FC;\n",
              "    }\n",
              "\n",
              "    [theme=dark] .colab-df-convert:hover {\n",
              "      background-color: #434B5C;\n",
              "      box-shadow: 0px 1px 3px 1px rgba(0, 0, 0, 0.15);\n",
              "      filter: drop-shadow(0px 1px 2px rgba(0, 0, 0, 0.3));\n",
              "      fill: #FFFFFF;\n",
              "    }\n",
              "  </style>\n",
              "\n",
              "      <script>\n",
              "        const buttonEl =\n",
              "          document.querySelector('#df-509ed74d-1152-4c34-9fb1-f20d36621b5e button.colab-df-convert');\n",
              "        buttonEl.style.display =\n",
              "          google.colab.kernel.accessAllowed ? 'block' : 'none';\n",
              "\n",
              "        async function convertToInteractive(key) {\n",
              "          const element = document.querySelector('#df-509ed74d-1152-4c34-9fb1-f20d36621b5e');\n",
              "          const dataTable =\n",
              "            await google.colab.kernel.invokeFunction('convertToInteractive',\n",
              "                                                     [key], {});\n",
              "          if (!dataTable) return;\n",
              "\n",
              "          const docLinkHtml = 'Like what you see? Visit the ' +\n",
              "            '<a target=\"_blank\" href=https://colab.research.google.com/notebooks/data_table.ipynb>data table notebook</a>'\n",
              "            + ' to learn more about interactive tables.';\n",
              "          element.innerHTML = '';\n",
              "          dataTable['output_type'] = 'display_data';\n",
              "          await google.colab.output.renderOutput(dataTable, element);\n",
              "          const docLink = document.createElement('div');\n",
              "          docLink.innerHTML = docLinkHtml;\n",
              "          element.appendChild(docLink);\n",
              "        }\n",
              "      </script>\n",
              "    </div>\n",
              "  </div>\n",
              "  "
            ]
          },
          "metadata": {},
          "execution_count": 37
        }
      ]
    },
    {
      "cell_type": "code",
      "source": [
        "# There are 374 unique error types in our dataset.\n",
        "print(\"Number of unique error types: \", len(df.traceback_type.unique()))\n",
        "df.traceback_type.unique()"
      ],
      "metadata": {
        "colab": {
          "base_uri": "https://localhost:8080/"
        },
        "id": "1AoLQ-mMryOg",
        "outputId": "fada97a8-a946-4cb0-ad64-6b3973dc0118"
      },
      "execution_count": null,
      "outputs": [
        {
          "output_type": "stream",
          "name": "stdout",
          "text": [
            "Number of unique error types:  374\n"
          ]
        },
        {
          "output_type": "execute_result",
          "data": {
            "text/plain": [
              "array(['IndexError', 'KeyError', 'OSError', 'ValueError',\n",
              "       'UnboundLocalError', 'AttributeError', 'socket.gaierror',\n",
              "       'discord.errors.InvalidArgument', 'discord.errors.HTTPException',\n",
              "       's3ql.backends.gs.RequestError', 'TypeError', 'ImportError',\n",
              "       'RuntimeError', 'FileNotFoundError', 'psycopg2.DataError',\n",
              "       'thread.error', 'iris.exceptions.CoordinateNotFoundError',\n",
              "       'tomlkit.exceptions.NonExistentKey',\n",
              "       'pipenv.patched.piptools.exceptions.NoCandidateFound',\n",
              "       'pipenv.patched.notpip._vendor.pyparsing.ParseException',\n",
              "       'json.decoder.JSONDecodeError',\n",
              "       'plette.models.base.ValidationError', 'prettytoml.tokens.error',\n",
              "       'PermissionError', 'UnicodeEncodeError', 'IOError', 'EOFError',\n",
              "       'pip9.exceptions.InstallationError',\n",
              "       'pip.exceptions.RequirementsFileParseError', 'ModuleNotFoundError',\n",
              "       'pexpect.exceptions.TIMEOUT', 'UnicodeDecodeError',\n",
              "       'EnvCommandError', 'pymysql.err.ProgrammingError',\n",
              "       'frappe.exceptions.DoesNotExistError', 'InternalError',\n",
              "       'ProgrammingError', 'frappe.exceptions.ValidationError',\n",
              "       'frappe.exceptions.LinkValidationError',\n",
              "       'intelmq.lib.exceptions.PipelineError',\n",
              "       'intelmq.lib.exceptions.InvalidValue', 'AssertionError',\n",
              "       'elasticsearch.exceptions.RequestError',\n",
              "       'nose.proxy.AssertionError', 'intelmq.lib.exceptions.KeyExists',\n",
              "       'UnicodeError', '_csv.Error', 'sqlite3.OperationalError',\n",
              "       'SyntaxError', 'NameError', 'NotADirectoryError',\n",
              "       'ChildProcessError', 'ProcessLookupError', 'Exception',\n",
              "       'zerver.lib.exceptions.JsonableError',\n",
              "       'subprocess.CalledProcessError', 'psycopg2.errors.SystemError',\n",
              "       'psycopg2.IntegrityError', 'psycopg2.NotSupportedError',\n",
              "       'django.core.exceptions.ValidationError',\n",
              "       'social_core.exceptions.AuthStateMissing', 'ConnectionError',\n",
              "       'ZeroDivisionError', 'sqlalchemy.exc.InvalidRequestError',\n",
              "       'NotImplementedError', 'requests.exceptions.HTTPError',\n",
              "       'jsonschema.exceptions.SchemaError',\n",
              "       'ccxt.base.errors.ExchangeError', 'freqtrade.OperationalException',\n",
              "       'urllib3.exceptions.NewConnectionError',\n",
              "       'telegram.vendor.ptb_urllib3.urllib3.exceptions.ReadTimeoutError',\n",
              "       'telegram.error.BadRequest',\n",
              "       'electrum.address_synchronizer.UnrelatedTransactionException',\n",
              "       'electrum.plugin.DeviceUnpairableError',\n",
              "       'electrum.util.UserFacingException',\n",
              "       'jsonrpclib.jsonrpc.ProtocolError',\n",
              "       'btchip.btchipException.BTChipException',\n",
              "       'pydicom.errors.InvalidDicomError', 'lxml.etree.ParserError',\n",
              "       'lightgbm.basic.LightGBMError',\n",
              "       'kombu.exceptions.ContentDisallowed',\n",
              "       'sqlalchemy.exc.ProgrammingError', 'AxisError',\n",
              "       'InvalidIndexError', 'WindowsError', 'urllib.error.HTTPError',\n",
              "       'TimeoutError', 'sklearn.exceptions.NotFittedError', 'HTTPError',\n",
              "       'tensorflow.python.framework.errors_impl.InvalidArgumentError',\n",
              "       'pykwalify.errors.SchemaError',\n",
              "       'aiohttp.client_exceptions.ContentTypeError', 'MemoryError',\n",
              "       'rasa.core.lock_store.TicketExistsError', 'telegram.error',\n",
              "       'rasa.utils.endpoints.ClientResponseError',\n",
              "       'google.api_core.exceptions.NotFound',\n",
              "       'jinja2.exceptions.UndefinedError',\n",
              "       'sphinx.util.cfamily.DefinitionError',\n",
              "       'jinja2.exceptions.TemplateNotFound', 'FileExistsError',\n",
              "       'locale.Error', 'PicklingError',\n",
              "       'sphinx.errors.SphinxParallelError', 'SphinxError',\n",
              "       'pygmt.exceptions.GMTCLibError', 'pyparsing.ParseException',\n",
              "       'DistutilsOptionError',\n",
              "       'pip._internal.exceptions.DistributionNotFound',\n",
              "       'botocore.errorfactory.NoSuchKey', 'tornado.util.TimeoutError',\n",
              "       'prefect.utilities.exceptions.SerializationError',\n",
              "       'builtins.AssertionError', 'sqlalchemy.exc.NoSuchTableError',\n",
              "       'buildbot.changes.gitpoller.GitError', 'twisted.internet.error',\n",
              "       'builtins.KeyError', 'builtins.TypeError',\n",
              "       'exceptions.UnicodeDecodeError',\n",
              "       'hydra.errors.ConfigCompositionException',\n",
              "       'omegaconf.errors.ConfigKeyError', 'hydra.errors.HydraException',\n",
              "       'submitit.core.utils.FailedJobError', 'RecursionError',\n",
              "       'hydra.errors.MissingConfigException',\n",
              "       'tribler_gui.event_request_manager.CoreConnectTimeoutError',\n",
              "       'pony.orm.core.TransactionIntegrityError',\n",
              "       'exceptions.TimeoutError', 'builtins.OSError',\n",
              "       'Tribler.Core.exceptions.SaveResumeDataError',\n",
              "       'exceptions.RuntimeError', 'exceptions.AttributeError',\n",
              "       'ConfigParser.ParsingError', 'PackError',\n",
              "       'InvalidSignatureException', 'SQLError', 'struct.error', 'isError',\n",
              "       'ArgumentError', 'nAttributeError', 'exceptions.AssertionError',\n",
              "       'BrokenPipeError', 'ssl.SSLZeroReturnError',\n",
              "       'ConnectionResetError', 'OverflowError', 'usb.core.USBError',\n",
              "       'numpy.core._exceptions.UFuncTypeError',\n",
              "       'holoviews.core.data.interface.DataError',\n",
              "       'discord.errors.Forbidden',\n",
              "       'discord.ext.commands.errors.CommandInvokeError',\n",
              "       'discord.errors.NotFound', 'pymongo.errors.InvalidURI',\n",
              "       'aiohttp.client_exceptions.ClientResponseError',\n",
              "       'downloader.errors.CloningError', 'configparser.NoOptionError',\n",
              "       '_pickle.PicklingError', 'AssertionErrorWARNING',\n",
              "       'configparser.InterpolationMissingOptionError', 'IbisTypeError',\n",
              "       'ibis.common.RelationError', 'HiveServer2Error', 'plaso.lib.error',\n",
              "       'CError', 'WinRegistryValueError',\n",
              "       'mitmproxy.exceptions.ControlException',\n",
              "       'pyperclip.PyperclipException',\n",
              "       'mitmproxy.exceptions.CommandError',\n",
              "       'mitmproxy.exceptions.OptionsError', 'OpenSSL.SSL.SysCallError',\n",
              "       'construct.core.FieldError', 'OpenSSL.SSL.Error',\n",
              "       'OpenSSL.crypto.Error', 'ProtocolError', 'nUnicodeDecodeError',\n",
              "       'ClientError', '__main__.UnarchiveError', 'nTypeError',\n",
              "       'PureHTTPError', 'ParamValidationError',\n",
              "       'botocore.exceptions.ClientError',\n",
              "       'nansible.module_utils.ec2.AnsibleAWSError',\n",
              "       'netrc.NetrcParseError', 'nUnicodeEncodeError', 'nValueError',\n",
              "       'requests.exceptions.ConnectionError',\n",
              "       'libcloud.common.google.ResourceNotFoundError',\n",
              "       'ansible.module_utils.connection.ConnectionError',\n",
              "       'ncom.vmware.vapi.std.error', 'nboto.exception.BotoServerError',\n",
              "       'github3.exceptions.NotFoundError', 'nIndexError', 'nRuntimeError',\n",
              "       'msrest.exceptions.ValidationError', 'nRecursionError',\n",
              "       'NotFoundError', 'tower_cli.exceptions.AuthError',\n",
              "       'nOpenSSL.crypto.Error', 'nKeyError', 'RepresenterError',\n",
              "       'NaApiError', 'fail_on_error', '_raise_error',\n",
              "       'netapp_lib.api.zapi.zapi.NaApiError', 'libvirtError',\n",
              "       'ndocker.errors.APIError', 'docker.errors.APIError',\n",
              "       'SSLValidationError', 'SSLError',\n",
              "       'botocore.exceptions.ParamValidationError', 'ConnectTimeoutError',\n",
              "       'nansible.module_utils.connection.ConnectionError', 'SSHError',\n",
              "       'CustomError', 'OptionValueError',\n",
              "       'tower_cli.exceptions.BadRequest',\n",
              "       'msrest.exceptions.AuthenticationError', 'nPermissionError',\n",
              "       'nOSError', 'dnf.exceptions.MarkingError',\n",
              "       'msrest.exceptions.SerializationError', 'nAssertionError',\n",
              "       'boto.exception.EC2ResponseError',\n",
              "       'jinja2.exceptions.TemplateSyntaxError', 'SSHException',\n",
              "       'WaiterError', 'TimeoutExpiredError',\n",
              "       'msrestazure.azure_exceptions.CloudError', 'WinRMTransportError',\n",
              "       'MetadataEndpointError', 'UnsupportedOperationException',\n",
              "       'org.freedesktop.DBus.Error',\n",
              "       'botocore.errorfactory.TargetGroupNotFoundException', 'nIOError',\n",
              "       'psycopg2.ProgrammingError', 'npsycopg2.ProgrammingError',\n",
              "       'nNameError', 'botocore.exceptions.NoRegionError', 'socket.error',\n",
              "       'ansible.module_utils.network.NetworkError',\n",
              "       'nboto.exception.EC2ResponseError', 'exceptions.ValueError',\n",
              "       'JMESPathTypeError', 'nUnboundLocalError', 'LookupError',\n",
              "       'ConfigParser.NoSectionError', 'nZeroDivisionError',\n",
              "       'paramiko.ssh_exception.SSHException', 'sre_constants.error',\n",
              "       '012IOError', 'ncclient.operations.errors.MissingCapabilityError',\n",
              "       'qiskit.circuit.exceptions.CircuitError',\n",
              "       'qiskit.pulse.exceptions.PulseError', 'QiskitError',\n",
              "       'qiskit.exceptions.QiskitError',\n",
              "       'qiskit.qasm.exceptions.QasmError', 'DAGCircuitError',\n",
              "       'qiskit.dagcircuit.exceptions.DAGCircuitError', 'PulseError',\n",
              "       'qiskit.transpiler.exceptions.TranspilerError',\n",
              "       'IBMQuantumExperience.IBMQuantumExperience.CredentialsError',\n",
              "       'qiskit.backends.joberror.JobError',\n",
              "       'qiskit._qiskiterror.QISKitError', 'QISKitError', 'MapperError',\n",
              "       'numpy.core._exceptions.MemoryError', 'urllib.error.URLError',\n",
              "       'JoblibException', 'LinAlgError', 'mxnet.base.MXNetError',\n",
              "       'gluonts.core.exception.GluonTSUserError', 'MXNetError',\n",
              "       'RRuntimeError', 'pytz.exceptions.UnknownTimeZoneError',\n",
              "       'ResourceNotFoundError', 'salt.exceptions.CommandExecutionError',\n",
              "       '_mysql_exceptions.ProgrammingError',\n",
              "       'salt.exceptions.VMwareApiError', 'CommandExecutionError',\n",
              "       'SaltInvocationError', 'pymysql.err.InternalError',\n",
              "       'salt.exceptions.MinionError',\n",
              "       'salt.exceptions.SaltInvocationError', '_pygit2.GitError',\n",
              "       'SaltRenderError', 'urllib3.exceptions.ProtocolError',\n",
              "       'ParseError', 'EauthAuthenticationError', 'gaierror',\n",
              "       'InvalidFileException', 'SaltCacheError', 'SaltClientError',\n",
              "       'YumBaseError', 'jinja2.exceptions.TemplateAssertionError',\n",
              "       'UnpackValueError', 'InvalidACLError', 'zmq.error.ZMQError',\n",
              "       'SaltMasterError', 'MaxRetryError', 'SaltException',\n",
              "       'RestException', 'MinionError', 'X509Error',\n",
              "       'salt.exceptions.SaltMasterError', 'TransportError', 'ParserError',\n",
              "       'CommandNotFoundError', 'optparse.OptionConflictError',\n",
              "       'salt.exceptions.SaltCloudSystemExit',\n",
              "       'ConfigParser.MissingSectionHeaderError', 'SaltReqTimeoutError',\n",
              "       'LinodeException', 'ApiError', 'APIError', 'CalledProcessError',\n",
              "       'msgpack.exceptions.UnpackValueError', '012ValueError', 'ZMQError',\n",
              "       'AuthenticationError', 'com_error', 'wx._core.wxAssertionError',\n",
              "       'wx._core.PyAssertionError', 'PyAssertionError', 'JavaException',\n",
              "       'alexapy.aiohttp.client_exceptions.InvalidURL',\n",
              "       'alexapy.errors.AlexapyLoginError',\n",
              "       'homeassistant.exceptions.HomeAssistantError',\n",
              "       'asyncio.TimeoutError', 'pyatv.exceptions.UnknownPlayState',\n",
              "       'pyatv.exceptions.AuthenticationError', 'numpy.linalg.LinAlgError',\n",
              "       'numpy.linalg.linalg.LinAlgError',\n",
              "       'scipy.stats.distributions.FitSolverError',\n",
              "       'tensorflow.python.framework.errors_impl.NotFoundError',\n",
              "       'sensors.common.SensorsError',\n",
              "       'pssh.exceptions.AuthenticationException',\n",
              "       'ssh2.exceptions.SocketRecvError', 'SessionError',\n",
              "       'certbot.errors.MisconfigurationError', 'PluginError',\n",
              "       'errors.NoInstallationError', 'errors.Error', 'InvalidQueryError',\n",
              "       'DBusErrorResponse', 'PluginParseError',\n",
              "       'azure.common.AzureMissingResourceHttpError',\n",
              "       'jmespath.exceptions.JMESPathTypeError',\n",
              "       'yaml.representer.RepresenterError', 'CloudNotRegisteredException',\n",
              "       'ssl.SSLError', 'BadYieldError', 'ChunkedEncodingError',\n",
              "       'GithubException', 'ApiException',\n",
              "       'ShowDirectoryNotFoundException', 'OperationalError',\n",
              "       'TwitterError', 'LanguageConvertError', 'MalformedMKVError',\n",
              "       'UnavailableException', 'BadCredentialsException',\n",
              "       'sqlite3.ProgrammingError', 'rpyc.lib.compat.TimeoutError',\n",
              "       'InterfaceError', 'StaleDataError', 'FlushError',\n",
              "       'builtins.AttributeError', 'builtins.ZeroDivisionError',\n",
              "       'exceptions.KeyError', 'LockException',\n",
              "       'twisted.names.error.DomainError',\n",
              "       'neptune.api_exceptions.ChannelsValuesSendBatchError',\n",
              "       'MisconfigurationException', 'mlflow.exceptions.MlflowException',\n",
              "       'pytorch_lightning.utilities.debugging.MisconfigurationException'],\n",
              "      dtype=object)"
            ]
          },
          "metadata": {},
          "execution_count": 8
        }
      ]
    },
    {
      "cell_type": "code",
      "source": [
        "#pd.set_option('display.max_colwidth', 1000)  # or 199\n",
        "dataset =dict()\n",
        "\n",
        "for i in range(5):\n",
        "  row = (df.iloc[i][\"source code and errors\"])\n",
        "  errorType = df.iloc[i][\"traceback_type\"]\n",
        "  dataset[i] = dict()\n",
        "  dataset[i][\"traceback_type\"] = errorType\n",
        "  dataset[i][\"error messages\"] = dict()\n",
        "\n",
        "  # Each element in row is a dictionary with \"piece_type\" and \"piece_content\" attributes.\n",
        "  numError = 1\n",
        "  for j in range(len(row)):\n",
        "    if row[j][\"piece_type\"] == \"error message\":\n",
        "      dataset[i][\"error messages\"][numError] = (row[j][\"piece_content\"])\n",
        "      numError+=1\n",
        "\n",
        "jsonObj = json.dumps(dataset, indent = 4)\n",
        "print(jsonObj)\n",
        "  "
      ],
      "metadata": {
        "colab": {
          "base_uri": "https://localhost:8080/"
        },
        "id": "cPZPhHjHrklP",
        "outputId": "c1e04cd7-61a9-49fe-87be-d5877cf1a93e"
      },
      "execution_count": null,
      "outputs": [
        {
          "output_type": "stream",
          "name": "stdout",
          "text": [
            "{\n",
            "    \"0\": {\n",
            "        \"traceback_type\": \"IndexError\",\n",
            "        \"error messages\": {\n",
            "            \"1\": \"Traceback (most recent call last):\\nFile \\\"<ipython-input-147-b875ad1f50fd>\\\", line 3, in <module>\\naccum, angles, dists = hough_line_peaks(h, theta, d, threshold=2)\\nFile \\\"C:\\\\Users\\\\Mark4\\\\anaconda3\\\\lib\\\\site-packages\\\\skimage\\\\transform\\\\hough_transform.py\\\", line 63, in hough_line_peaks\\nnum_peaks=num_peaks)\\nFile \\\"C:\\\\Users\\\\Mark4\\\\anaconda3\\\\lib\\\\site-packages\\\\skimage\\\\feature\\\\peak.py\\\", line 316, in _prominent_peaks\\nimg_max[ycoords_nh, xcoords_nh] = 0\\nIndexError: index -9 is out of bounds for axis 1 with size 1\"\n",
            "        }\n",
            "    },\n",
            "    \"1\": {\n",
            "        \"traceback_type\": \"KeyError\",\n",
            "        \"error messages\": {\n",
            "            \"1\": \"---------------------------------------------------------------------------\\nKeyError                                  Traceback (most recent call last)\\n<ipython-input-1-de11203f72d2> in <module>\\n3\\n4 array = np.load('array.npy')\\n----> 5 find_contours(array, 0)\\n\\n/g/data/v10/public/modules/dea-env/20191127/lib/python3.6/site-packages/skimage/measure/_find_contours.py in find_contours(array, level, fully_connected, positive_orientation, mask)\\n133                                                      fully_connected == 'high',\\n134                                                      mask=mask)\\n--> 135     contours = _assemble_contours(_take_2(point_list))\\n136     if positive_orientation == 'high':\\n137         contours = [c[::-1] for c in contours]\\n\\n/g/data/v10/public/modules/dea-env/20191127/lib/python3.6/site-packages/skimage/measure/_find_contours.py in _assemble_contours(points_iterator)\\n199                     tail.extendleft(reversed(head))\\n200                     # remove all traces of head:\\n--> 201                     del starts[head[0]]\\n202                     del ends[from_point]\\n203                     del contours[head_num]\\n\\nKeyError: (9, 6.0)\"\n",
            "        }\n",
            "    },\n",
            "    \"2\": {\n",
            "        \"traceback_type\": \"KeyError\",\n",
            "        \"error messages\": {\n",
            "            \"1\": \"---------------------------------------------------------------------------\\nKeyError                                  Traceback (most recent call last)\\n<ipython-input-1-de11203f72d2> in <module>\\n3\\n4 array = np.load('array.npy')\\n----> 5 find_contours(array, 0)\\n\\n/g/data/v10/public/modules/dea-env/20191127/lib/python3.6/site-packages/skimage/measure/_find_contours.py in find_contours(array, level, fully_connected, positive_orientation, mask)\\n133                                                      fully_connected == 'high',\\n134                                                      mask=mask)\\n--> 135     contours = _assemble_contours(_take_2(point_list))\\n136     if positive_orientation == 'high':\\n137         contours = [c[::-1] for c in contours]\\n\\n/g/data/v10/public/modules/dea-env/20191127/lib/python3.6/site-packages/skimage/measure/_find_contours.py in _assemble_contours(points_iterator)\\n199                     tail.extendleft(reversed(head))\\n200                     # remove all traces of head:\\n--> 201                     del starts[head[0]]\\n202                     del ends[from_point]\\n203                     del contours[head_num]\\n\\nKeyError: (9, 6.0)\"\n",
            "        }\n",
            "    },\n",
            "    \"3\": {\n",
            "        \"traceback_type\": \"OSError\",\n",
            "        \"error messages\": {\n",
            "            \"1\": \"Traceback (most recent call last):\\nFile \\\"C:\\\\Python37\\\\lib\\\\site-packages\\\\skimage\\\\io\\\\util.py\\\", line 28, in file_or_url_context\\nwith tempfile.NamedTemporaryFile(delete=False, suffix=ext) as f:\\nFile \\\"C:\\\\Python37\\\\lib\\\\tempfile.py\\\", line 547, in NamedTemporaryFile\\n(fd, name) = _mkstemp_inner(dir, prefix, suffix, flags, output_type)\\nFile \\\"C:\\\\Python37\\\\lib\\\\tempfile.py\\\", line 258, in _mkstemp_inner\\nfd = _os.open(file, flags, 0o600)\\nOSError: [Errno 22] Invalid argument: 'C:\\\\\\\\Users\\\\\\\\kelvin\\\\\\\\AppData\\\\\\\\Local\\\\\\\\Temp\\\\\\\\tmpegjt2y8r.png?mi_guid=CFCDF62B5115D31389F2893D3CCFFA5CB42BDE7F8CD696BB57B97B8BB567940F&amp;mi_language=EN'\\n\\nDuring handling of the above exception, another exception occurred:\\n\\nTraceback (most recent call last):\\nFile \\\"imagecheck.py\\\", line 28, in <module>\\nprint(url_to_image(\\\"http://www.movable-ink-6437.com/p/rp/0fd853751b1edbb0.png?mi_guid=CFCDF62B5115D31389F2893D3CCFFA5CB42BDE7F8CD696BB57B97B8BB567940F&amp;mi_language=EN\\\"))\\nFile \\\"imagecheck.py\\\", line 9, in url_to_image\\nim_mat = io.imread(url)\\nFile \\\"C:\\\\Python37\\\\lib\\\\site-packages\\\\skimage\\\\io\\\\_io.py\\\", line 61, in imread\\nwith file_or_url_context(fname) as fname:\\nFile \\\"C:\\\\Python37\\\\lib\\\\contextlib.py\\\", line 112, in __enter__\\nreturn next(self.gen)\\nFile \\\"C:\\\\Python37\\\\lib\\\\site-packages\\\\skimage\\\\io\\\\util.py\\\", line 34, in file_or_url_context\\nos.remove(f.name)\\nUnboundLocalError: local variable 'f' referenced before assignment\"\n",
            "        }\n",
            "    },\n",
            "    \"4\": {\n",
            "        \"traceback_type\": \"OSError\",\n",
            "        \"error messages\": {\n",
            "            \"1\": \"im = imread('https://c1.staticflickr.com/9/8370/8429454143_1066b73c04_o.jpg?{}'.format(''.join(['s' for i in range(300)])))\\nTraceback (most recent call last):\\nFile \\\"/usr/local/lib/python3.5/dist-packages/skimage/io/util.py\\\", line 28, in file_or_url_context\\nwith tempfile.NamedTemporaryFile(delete=False, suffix=ext) as f:\\nFile \\\"/usr/lib/python3.5/tempfile.py\\\", line 688, in NamedTemporaryFile\\n(fd, name) = _mkstemp_inner(dir, prefix, suffix, flags, output_type)\\nFile \\\"/usr/lib/python3.5/tempfile.py\\\", line 399, in _mkstemp_inner\\nfd = _os.open(file, flags, 0o600)\\nOSError: [Errno 36] File name too long: '/tmp/tmpmfnujlq6.jpg?ssssssssssssssssssssssssssssssssssssssssssssssssssssssssssssssssssssssssssssssssssssssssssssssssssssssssssssssssssssssssssssssssssssssssssssssssssssssssssssssssssssssssssssssssssssssssssssssssssssssssssssssssssssssssssssssssssssssssssssssssssssssssssssssssssssssssssssssssssssssssssssssssssssssssssss'\\n\\nDuring handling of the above exception, another exception occurred:\\n\\nTraceback (most recent call last):\\nFile \\\"<stdin>\\\", line 1, in <module>\\nFile \\\"/usr/local/lib/python3.5/dist-packages/skimage/io/_io.py\\\", line 61, in imread\\nwith file_or_url_context(fname) as fname:\\nFile \\\"/usr/lib/python3.5/contextlib.py\\\", line 59, in __enter__\\nreturn next(self.gen)\\nFile \\\"/usr/local/lib/python3.5/dist-packages/skimage/io/util.py\\\", line 34, in file_or_url_context\\nos.remove(f.name)\\nUnboundLocalError: local variable 'f' referenced before assignment\"\n",
            "        }\n",
            "    }\n",
            "}\n"
          ]
        }
      ]
    },
    {
      "cell_type": "code",
      "source": [
        "df.shape"
      ],
      "metadata": {
        "colab": {
          "base_uri": "https://localhost:8080/"
        },
        "id": "TmRzbTZsH1Rm",
        "outputId": "fab78009-5596-4b30-844f-9e9441d34a70"
      },
      "execution_count": null,
      "outputs": [
        {
          "output_type": "execute_result",
          "data": {
            "text/plain": [
              "(9457, 6)"
            ]
          },
          "metadata": {},
          "execution_count": 12
        }
      ]
    },
    {
      "cell_type": "markdown",
      "source": [
        "#Existing Sklearn tfidf"
      ],
      "metadata": {
        "id": "p3Ie41xY0nKV"
      }
    },
    {
      "cell_type": "code",
      "source": [
        "from sklearn.feature_extraction.text import TfidfVectorizer"
      ],
      "metadata": {
        "id": "yUddOil-JEa8"
      },
      "execution_count": null,
      "outputs": []
    },
    {
      "cell_type": "code",
      "source": [
        "vectorizer = TfidfVectorizer()\n",
        "vectors = vectorizer.fit_transform(df[\"full_traceback\"].values)\n",
        "feature_names = vectorizer.get_feature_names()\n",
        "dense = vectors.todense()\n",
        "denselist = dense.tolist()\n",
        "df2 = pd.DataFrame(denselist, columns=feature_names)"
      ],
      "metadata": {
        "colab": {
          "base_uri": "https://localhost:8080/"
        },
        "id": "0lbFfkSfJB8_",
        "outputId": "7e754a55-ddcb-476e-e01e-a129a4a97771"
      },
      "execution_count": null,
      "outputs": [
        {
          "output_type": "stream",
          "name": "stderr",
          "text": [
            "/usr/local/lib/python3.7/dist-packages/sklearn/utils/deprecation.py:87: FutureWarning: Function get_feature_names is deprecated; get_feature_names is deprecated in 1.0 and will be removed in 1.2. Please use get_feature_names_out instead.\n",
            "  warnings.warn(msg, category=FutureWarning)\n"
          ]
        }
      ]
    },
    {
      "cell_type": "markdown",
      "source": [
        "#tfidf from scratch"
      ],
      "metadata": {
        "id": "MNzH1rSj0uFW"
      }
    },
    {
      "cell_type": "code",
      "source": [
        "tracebacks=df[\"full_traceback\"].values"
      ],
      "metadata": {
        "id": "hoooo6w7KNaA"
      },
      "execution_count": null,
      "outputs": []
    },
    {
      "cell_type": "code",
      "source": [
        "tracebacks"
      ],
      "metadata": {
        "colab": {
          "base_uri": "https://localhost:8080/"
        },
        "id": "gUySNw8dK_MS",
        "outputId": "d2d6def8-22e6-4cb1-d9da-1200ed481f44"
      },
      "execution_count": null,
      "outputs": [
        {
          "output_type": "execute_result",
          "data": {
            "text/plain": [
              "array(['Traceback (most recent call last):File \"<ipython-input-147-b875ad1f50fd>\", line 3, in <module>accum, angles, dists = hough_line_peaks(h, theta, d, threshold=2)File \"C:\\\\Users\\\\Mark4\\\\anaconda3\\\\lib\\\\site-packages\\\\skimage\\\\transform\\\\hough_transform.py\", line 63, in hough_line_peaksnum_peaks=num_peaks)File \"C:\\\\Users\\\\Mark4\\\\anaconda3\\\\lib\\\\site-packages\\\\skimage\\\\feature\\\\peak.py\", line 316, in _prominent_peaksimg_max[ycoords_nh, xcoords_nh] = 0IndexError: index -9 is out of bounds for axis 1 with size 1',\n",
              "       \"KeyError                                  Traceback (most recent call last)<ipython-input-1-de11203f72d2> in <module>34 array = np.load('array.npy')----> 5 find_contours(array, 0)/g/data/v10/public/modules/dea-env/20191127/lib/python3.6/site-packages/skimage/measure/_find_contours.py in find_contours(array, level, fully_connected, positive_orientation, mask)133                                                      fully_connected == 'high',134                                                      mask=mask)--> 135     contours = _assemble_contours(_take_2(point_list))136     if positive_orientation == 'high':137         contours = [c[::-1] for c in contours]/g/data/v10/public/modules/dea-env/20191127/lib/python3.6/site-packages/skimage/measure/_find_contours.py in _assemble_contours(points_iterator)199                     tail.extendleft(reversed(head))200                     # remove all traces of head:--> 201                     del starts[head[0]]202                     del ends[from_point]203                     del contours[head_num]KeyError: (9, 6.0)\",\n",
              "       \"KeyError                                  Traceback (most recent call last)<ipython-input-1-de11203f72d2> in <module>34 array = np.load('array.npy')----> 5 find_contours(array, 0)/g/data/v10/public/modules/dea-env/20191127/lib/python3.6/site-packages/skimage/measure/_find_contours.py in find_contours(array, level, fully_connected, positive_orientation, mask)133                                                      fully_connected == 'high',134                                                      mask=mask)--> 135     contours = _assemble_contours(_take_2(point_list))136     if positive_orientation == 'high':137         contours = [c[::-1] for c in contours]/g/data/v10/public/modules/dea-env/20191127/lib/python3.6/site-packages/skimage/measure/_find_contours.py in _assemble_contours(points_iterator)199                     tail.extendleft(reversed(head))200                     # remove all traces of head:--> 201                     del starts[head[0]]202                     del ends[from_point]203                     del contours[head_num]KeyError: (9, 6.0)\",\n",
              "       ...,\n",
              "       'Traceback (most recent call last):File \"/opt/conda/lib/python3.7/site-packages/pytorch_lightning/trainer/trainer.py\", line 347, in fitself.single_gpu_train(model)File \"/opt/conda/lib/python3.7/site-packages/pytorch_lightning/trainer/dp_mixin.py\", line 79, in single_gpu_trainself.run_pretrain_routine(model)File \"/opt/conda/lib/python3.7/site-packages/pytorch_lightning/trainer/trainer.py\", line 467, in run_pretrain_routineself.train()File \"/opt/conda/lib/python3.7/site-packages/pytorch_lightning/trainer/train_loop_mixin.py\", line 60, in trainself.run_training_epoch()File \"/opt/conda/lib/python3.7/site-packages/pytorch_lightning/trainer/train_loop_mixin.py\", line 126, in run_training_epochself.log_metrics(batch_step_metrics, grad_norm_dic)File \"/opt/conda/lib/python3.7/site-packages/pytorch_lightning/trainer/logging_mixin.py\", line 20, in log_metricsmem_map = memory.get_memory_profile(self.log_gpu_memory)File \"/opt/conda/lib/python3.7/site-packages/pytorch_lightning/root_module/memory.py\", line 205, in get_memory_profilefor k, v in memory_map:ValueError: too many values to unpack (expected 2)',\n",
              "       'Traceback (most recent call last):File \"C:/minimal.py\", line 8, in <module>Foo().barFile \"C:\\\\Program Files\\\\Python37\\\\lib\\\\site-packages\\\\torch\\\\nn\\\\modules\\\\module.py\", line 591, in __getattr__type(self).__name__, name))AttributeError: \\'Foo\\' object has no attribute \\'bar\\'',\n",
              "       'Traceback (most recent call last):File \"C:/minimal.py\", line 8, in <module>Foo().barFile \"C:\\\\Program Files\\\\Python37\\\\lib\\\\site-packages\\\\torch\\\\nn\\\\modules\\\\module.py\", line 591, in __getattr__type(self).__name__, name))AttributeError: \\'Foo\\' object has no attribute \\'bar\\''],\n",
              "      dtype=object)"
            ]
          },
          "metadata": {},
          "execution_count": 17
        }
      ]
    },
    {
      "cell_type": "code",
      "source": [
        "for i in range(len(tracebacks)):\n",
        "  tracebacks[i]=tracebacks[i].replace(\"---------------------------------------------------------------------------\",\"\").replace(\"\\n\",\"\")"
      ],
      "metadata": {
        "id": "_c6HkLGrLE9L"
      },
      "execution_count": null,
      "outputs": []
    },
    {
      "cell_type": "code",
      "source": [
        "tracebacklist=[]\n",
        "\n",
        "for s in tracebacks:\n",
        "  tracebacklist+=s.split()"
      ],
      "metadata": {
        "id": "pW-5XNnxMCTH"
      },
      "execution_count": null,
      "outputs": []
    },
    {
      "cell_type": "code",
      "source": [
        "bagOfTracebacks=[]\n",
        "for s in tracebacks:\n",
        "  bagOfTracebacks.append(s.split())"
      ],
      "metadata": {
        "id": "m-nU2EwLNQTA"
      },
      "execution_count": null,
      "outputs": []
    },
    {
      "cell_type": "code",
      "source": [
        "tracebackset=set(tracebacklist)"
      ],
      "metadata": {
        "id": "9_d9Ub8-Mjhc"
      },
      "execution_count": null,
      "outputs": []
    },
    {
      "cell_type": "code",
      "source": [
        "list_of_dicts=[]\n",
        "for t in bagOfTracebacks:\n",
        "  numOfWords = dict.fromkeys(tracebackset, 0)\n",
        "  for word in t:\n",
        "      numOfWords[word] += 1\n",
        "  list_of_dicts.append(numOfWords)"
      ],
      "metadata": {
        "id": "RxUbOhvcKLcO"
      },
      "execution_count": null,
      "outputs": []
    },
    {
      "cell_type": "code",
      "source": [
        "def computeTF(wordDict, bagOfWords):\n",
        "    tfDict = {}\n",
        "    bagOfWordsCount = len(bagOfWords)\n",
        "    for word, count in wordDict.items():\n",
        "        tfDict[word] = count / float(bagOfWordsCount)\n",
        "    return tfDict"
      ],
      "metadata": {
        "id": "OxiNpIiLOMat"
      },
      "execution_count": null,
      "outputs": []
    },
    {
      "cell_type": "code",
      "source": [
        "tfs=[]\n",
        "for d in range(len(list_of_dicts)):\n",
        "  tfA = computeTF(list_of_dicts[d], bagOfTracebacks[d])\n",
        "  tfs.append(tfA)"
      ],
      "metadata": {
        "id": "0C14ZdW1ONVW"
      },
      "execution_count": null,
      "outputs": []
    },
    {
      "cell_type": "code",
      "source": [
        "def computeIDF(documents):\n",
        "    import math\n",
        "    N = len(documents)   \n",
        "    idfDict = dict.fromkeys(documents[0].keys(), 0)\n",
        "    for document in documents:\n",
        "        for word, val in document.items():\n",
        "            if val > 0:\n",
        "                idfDict[word] += 1\n",
        "    \n",
        "    for word, val in idfDict.items():\n",
        "        idfDict[word] = math.log(N / float(val))\n",
        "    return idfDict"
      ],
      "metadata": {
        "id": "HKU1QydoOnMR"
      },
      "execution_count": null,
      "outputs": []
    },
    {
      "cell_type": "code",
      "source": [
        "idfs = computeIDF(list_of_dicts)"
      ],
      "metadata": {
        "id": "pagKvLgcOsYf"
      },
      "execution_count": null,
      "outputs": []
    },
    {
      "cell_type": "code",
      "source": [
        "def computeTFIDF(tfBagOfWords, idfs):\n",
        "    tfidf = {}\n",
        "    for word, val in tfBagOfWords.items():\n",
        "        tfidf[word] = val * idfs[word]\n",
        "    return tfidf"
      ],
      "metadata": {
        "id": "sz5uFix9O8rp"
      },
      "execution_count": null,
      "outputs": []
    },
    {
      "cell_type": "code",
      "source": [
        "tfidfs=[]\n",
        "for tf in tfs:\n",
        "  tfidfA = computeTFIDF(tf, idfs)\n",
        "  tfidfs.append(tfidfA)"
      ],
      "metadata": {
        "id": "X1j_7_DTPMA4"
      },
      "execution_count": null,
      "outputs": []
    },
    {
      "cell_type": "code",
      "source": [
        "df = pd.DataFrame(tfidfs)"
      ],
      "metadata": {
        "id": "czsjFKCwPXEf"
      },
      "execution_count": null,
      "outputs": []
    }
  ]
}